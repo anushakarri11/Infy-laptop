{
 "cells": [
  {
   "cell_type": "code",
   "execution_count": null,
   "metadata": {},
   "outputs": [],
   "source": [
    "\n",
    "\n",
    "#pip install fastapi uvicorn\n",
    "\n",
    "# 1. Library imports\n",
    "import uvicorn ##ASGI\n",
    "from fastapi import FastAPI\n",
    "\n",
    "# 2. Create the app object\n",
    "app = FastAPI()\n",
    "\n",
    "# 3. Index route, opens automatically on http://127.0.0.1:8000\n",
    "@app.get('/')\n",
    "def index():\n",
    "    return {'message': 'Hello, World'}\n",
    "\n",
    "# 4. Route with a single parameter, returns the parameter within a message\n",
    "#    Located at: http://127.0.0.1:8000/AnyNameHere\n",
    "@app.get('/Welcome')\n",
    "def get_name(name: str):\n",
    "    return {'Welcome To Krish Youtube Channel': f'{name}'}\n",
    "\n",
    "\n",
    "\n",
    "# 5. Run the API with uvicorn\n",
    "#    Will run on http://127.0.0.1:8000\n",
    "if __name__ == '__main__':\n",
    "    uvicorn.run(app, host='127.0.0.1', port=8000)\n",
    "#uvicorn main:app --reload\n"
   ]
  }
 ],
 "metadata": {
  "kernelspec": {
   "display_name": "Python 3",
   "language": "python",
   "name": "python3"
  },
  "language_info": {
   "codemirror_mode": {
    "name": "ipython",
    "version": 3
   },
   "file_extension": ".py",
   "mimetype": "text/x-python",
   "name": "python",
   "nbconvert_exporter": "python",
   "pygments_lexer": "ipython3",
   "version": "3.8.5"
  }
 },
 "nbformat": 4,
 "nbformat_minor": 4
}
