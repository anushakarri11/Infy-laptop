{
 "cells": [
  {
   "cell_type": "markdown",
   "metadata": {},
   "source": [
    "# OCR LIBRARY FOR DIFFERENT FILE FORMATS"
   ]
  },
  {
   "cell_type": "markdown",
   "metadata": {},
   "source": [
    "<h3>1. Extract text using Tesseract, OpenCV<h3>\n"
   ]
  },
  {
   "cell_type": "code",
   "execution_count": null,
   "metadata": {},
   "outputs": [],
   "source": [
    "#sample code to extract text from a image and The text will be saved in the file specified\n",
    "\n",
    "from PIL import Image\n",
    "import pytesseract \n",
    "import cv2\n",
    "import os\n",
    "import sys\n",
    "\n",
    "#function for image validation\n",
    "def image():\n",
    "    image_path = cv2.imread('C:\\\\Users\\\\Anusha\\\\Desktop\\\\a.jpg')\n",
    "    if image is None:\n",
    "        print('Could not open or find the image: ')\n",
    "        exit(0)\n",
    "    return image\n",
    "\n",
    "if __name__ == '__main__':\n",
    "    try:\n",
    "        file_name = 'ocr.txt'\n",
    "\n",
    "        image = image()\n",
    "        with open(file_name,\"w\") as f:\n",
    "            itx = pytesseract.image_to_string(image,lang='eng')\n",
    "            f.write(itx)\n",
    "            f.close()\n",
    "            \n",
    "    except OSerror:\n",
    "        print(\"failed to create file\")\n",
    "        sys.exit()\n",
    "    except Exception as e:\n",
    "        print(\"try again\")\n",
    "        sys.exit()"
   ]
  },
  {
   "cell_type": "code",
   "execution_count": null,
   "metadata": {},
   "outputs": [],
   "source": [
    "##sample code to extract text from a file and The text will be saved in the file specified\n",
    "\n",
    "import pandas as pd\n",
    "import pytesseract as pt\n",
    "import pdf2image\n",
    "# Read a pdf file as image pages\n",
    "# setting images to be small\n",
    "pages = pdf2image.convert_from_path(pdf_path='files\\\\doc.pdf', dpi=200, size=(1654,2340))\n",
    "# Save all pages as images\n",
    "for i in range(len(pages)):\n",
    "    pages[i].save('images\\\\ocr' + str(i) + '.jpg')\n",
    "# Convert a page to a string \n",
    "content = pt.image_to_string(pages[1], lang='eng')\n",
    "print(content)"
   ]
  },
  {
   "cell_type": "markdown",
   "metadata": {},
   "source": [
    "There were few best performing OCR libraries\n",
    "\n",
    "    1.Tesseract OCR\n",
    "    \n",
    "    2.Kofax Omnipage\n",
    "    \n",
    "    3.Google Cloud Vision\n",
    "    \n",
    "    4.KlearStack’s OCR\n",
    "    \n",
    "    5.ABBYY FineReade\n",
    "    \n",
    "    6. EasyOCR\n",
    "    \n",
    "Google cloud vision and ABBYY are promising but not opensource,"
   ]
  },
  {
   "cell_type": "markdown",
   "metadata": {},
   "source": [
    "<h3>2. Extract text using EasyOCR<h3>\n"
   ]
  },
  {
   "cell_type": "code",
   "execution_count": null,
   "metadata": {},
   "outputs": [],
   "source": [
    "##Sample code to read an image and return the extracted text in array\n",
    "import easyocr\n",
    "reader = easyocr.Reader(['en']) \n",
    "op_jpg = reader.readtext('C:\\\\Users\\\\Anusha\\\\Desktop\\\\a.jpg', detail = 0)\n",
    "op_png = reader.readtext('C:\\\\Users\\\\Anusha\\\\Desktop\\\\test.png', detail = 0)\n",
    "\n",
    "print(op_jpg)"
   ]
  },
  {
   "cell_type": "markdown",
   "metadata": {},
   "source": [
    "Both PYTesseract and EasyOCR performs same but, to decide which one is better is upto requirement.\n",
    "\n",
    "Points to consider:\n",
    "\n",
    "1. EasyOCR does job on numbers, invoice data \n",
    "\n",
    "2. PYTesseract needs preprocessing to improve OCR results\n",
    "\n",
    "3. PYTesseract performs poorly when the image/file has a lot of noise or when the font of the language is one on which Tesseract OCR is not trained.\n"
   ]
  },
  {
   "cell_type": "code",
   "execution_count": null,
   "metadata": {},
   "outputs": [],
   "source": []
  }
 ],
 "metadata": {
  "kernelspec": {
   "display_name": "Python 3",
   "language": "python",
   "name": "python3"
  },
  "language_info": {
   "codemirror_mode": {
    "name": "ipython",
    "version": 3
   },
   "file_extension": ".py",
   "mimetype": "text/x-python",
   "name": "python",
   "nbconvert_exporter": "python",
   "pygments_lexer": "ipython3",
   "version": "3.8.5"
  }
 },
 "nbformat": 4,
 "nbformat_minor": 4
}
