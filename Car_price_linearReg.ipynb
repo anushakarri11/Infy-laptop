{
 "cells": [
  {
   "cell_type": "code",
   "execution_count": 491,
   "metadata": {},
   "outputs": [],
   "source": [
    "import pandas as pd\n",
    "import numpy as np"
   ]
  },
  {
   "cell_type": "code",
   "execution_count": 492,
   "metadata": {},
   "outputs": [],
   "source": [
    "car_data=pd.read_csv('D:/ML_practice/Cars_LinearReg/cars_dataset.csv')"
   ]
  },
  {
   "cell_type": "code",
   "execution_count": 493,
   "metadata": {},
   "outputs": [
    {
     "data": {
      "text/html": [
       "<div>\n",
       "<style scoped>\n",
       "    .dataframe tbody tr th:only-of-type {\n",
       "        vertical-align: middle;\n",
       "    }\n",
       "\n",
       "    .dataframe tbody tr th {\n",
       "        vertical-align: top;\n",
       "    }\n",
       "\n",
       "    .dataframe thead th {\n",
       "        text-align: right;\n",
       "    }\n",
       "</style>\n",
       "<table border=\"1\" class=\"dataframe\">\n",
       "  <thead>\n",
       "    <tr style=\"text-align: right;\">\n",
       "      <th></th>\n",
       "      <th>model</th>\n",
       "      <th>year</th>\n",
       "      <th>price</th>\n",
       "      <th>transmission</th>\n",
       "      <th>mileage</th>\n",
       "      <th>fuelType</th>\n",
       "      <th>tax</th>\n",
       "      <th>mpg</th>\n",
       "      <th>engineSize</th>\n",
       "      <th>Make</th>\n",
       "    </tr>\n",
       "  </thead>\n",
       "  <tbody>\n",
       "    <tr>\n",
       "      <th>0</th>\n",
       "      <td>A1</td>\n",
       "      <td>2017</td>\n",
       "      <td>12500</td>\n",
       "      <td>Manual</td>\n",
       "      <td>15735</td>\n",
       "      <td>Petrol</td>\n",
       "      <td>150.0</td>\n",
       "      <td>55.4</td>\n",
       "      <td>1.4</td>\n",
       "      <td>audi</td>\n",
       "    </tr>\n",
       "    <tr>\n",
       "      <th>1</th>\n",
       "      <td>A6</td>\n",
       "      <td>2016</td>\n",
       "      <td>16500</td>\n",
       "      <td>Automatic</td>\n",
       "      <td>36203</td>\n",
       "      <td>Diesel</td>\n",
       "      <td>20.0</td>\n",
       "      <td>64.2</td>\n",
       "      <td>2.0</td>\n",
       "      <td>audi</td>\n",
       "    </tr>\n",
       "    <tr>\n",
       "      <th>2</th>\n",
       "      <td>A1</td>\n",
       "      <td>2016</td>\n",
       "      <td>11000</td>\n",
       "      <td>Manual</td>\n",
       "      <td>29946</td>\n",
       "      <td>Petrol</td>\n",
       "      <td>30.0</td>\n",
       "      <td>55.4</td>\n",
       "      <td>1.4</td>\n",
       "      <td>audi</td>\n",
       "    </tr>\n",
       "    <tr>\n",
       "      <th>3</th>\n",
       "      <td>A4</td>\n",
       "      <td>2017</td>\n",
       "      <td>16800</td>\n",
       "      <td>Automatic</td>\n",
       "      <td>25952</td>\n",
       "      <td>Diesel</td>\n",
       "      <td>145.0</td>\n",
       "      <td>67.3</td>\n",
       "      <td>2.0</td>\n",
       "      <td>audi</td>\n",
       "    </tr>\n",
       "    <tr>\n",
       "      <th>4</th>\n",
       "      <td>A3</td>\n",
       "      <td>2019</td>\n",
       "      <td>17300</td>\n",
       "      <td>Manual</td>\n",
       "      <td>1998</td>\n",
       "      <td>Petrol</td>\n",
       "      <td>145.0</td>\n",
       "      <td>49.6</td>\n",
       "      <td>1.0</td>\n",
       "      <td>audi</td>\n",
       "    </tr>\n",
       "  </tbody>\n",
       "</table>\n",
       "</div>"
      ],
      "text/plain": [
       "  model  year  price transmission  mileage fuelType    tax   mpg  engineSize  \\\n",
       "0    A1  2017  12500       Manual    15735   Petrol  150.0  55.4         1.4   \n",
       "1    A6  2016  16500    Automatic    36203   Diesel   20.0  64.2         2.0   \n",
       "2    A1  2016  11000       Manual    29946   Petrol   30.0  55.4         1.4   \n",
       "3    A4  2017  16800    Automatic    25952   Diesel  145.0  67.3         2.0   \n",
       "4    A3  2019  17300       Manual     1998   Petrol  145.0  49.6         1.0   \n",
       "\n",
       "   Make  \n",
       "0  audi  \n",
       "1  audi  \n",
       "2  audi  \n",
       "3  audi  \n",
       "4  audi  "
      ]
     },
     "execution_count": 493,
     "metadata": {},
     "output_type": "execute_result"
    }
   ],
   "source": [
    "car_data.head()"
   ]
  },
  {
   "cell_type": "code",
   "execution_count": 494,
   "metadata": {},
   "outputs": [
    {
     "name": "stdout",
     "output_type": "stream",
     "text": [
      "<class 'pandas.core.frame.DataFrame'>\n",
      "RangeIndex: 72435 entries, 0 to 72434\n",
      "Data columns (total 10 columns):\n",
      " #   Column        Non-Null Count  Dtype  \n",
      "---  ------        --------------  -----  \n",
      " 0   model         72435 non-null  object \n",
      " 1   year          72435 non-null  int64  \n",
      " 2   price         72435 non-null  int64  \n",
      " 3   transmission  72435 non-null  object \n",
      " 4   mileage       72435 non-null  int64  \n",
      " 5   fuelType      72435 non-null  object \n",
      " 6   tax           72435 non-null  float64\n",
      " 7   mpg           72435 non-null  float64\n",
      " 8   engineSize    72435 non-null  float64\n",
      " 9   Make          72435 non-null  object \n",
      "dtypes: float64(3), int64(3), object(4)\n",
      "memory usage: 5.5+ MB\n"
     ]
    }
   ],
   "source": [
    "car_data.info()"
   ]
  },
  {
   "cell_type": "code",
   "execution_count": 495,
   "metadata": {},
   "outputs": [
    {
     "data": {
      "text/plain": [
       "model           0\n",
       "year            0\n",
       "price           0\n",
       "transmission    0\n",
       "mileage         0\n",
       "fuelType        0\n",
       "tax             0\n",
       "mpg             0\n",
       "engineSize      0\n",
       "Make            0\n",
       "dtype: int64"
      ]
     },
     "execution_count": 495,
     "metadata": {},
     "output_type": "execute_result"
    }
   ],
   "source": [
    "car_data.isna().sum()"
   ]
  },
  {
   "cell_type": "code",
   "execution_count": 496,
   "metadata": {},
   "outputs": [],
   "source": [
    "data_y=car_data['price']"
   ]
  },
  {
   "cell_type": "code",
   "execution_count": 497,
   "metadata": {},
   "outputs": [
    {
     "data": {
      "text/plain": [
       "0    12500\n",
       "1    16500\n",
       "2    11000\n",
       "3    16800\n",
       "4    17300\n",
       "Name: price, dtype: int64"
      ]
     },
     "execution_count": 497,
     "metadata": {},
     "output_type": "execute_result"
    }
   ],
   "source": [
    "data_y.head()"
   ]
  },
  {
   "cell_type": "code",
   "execution_count": 498,
   "metadata": {},
   "outputs": [],
   "source": [
    "data_x=car_data.drop('price',axis=1)"
   ]
  },
  {
   "cell_type": "code",
   "execution_count": 499,
   "metadata": {},
   "outputs": [
    {
     "data": {
      "text/html": [
       "<div>\n",
       "<style scoped>\n",
       "    .dataframe tbody tr th:only-of-type {\n",
       "        vertical-align: middle;\n",
       "    }\n",
       "\n",
       "    .dataframe tbody tr th {\n",
       "        vertical-align: top;\n",
       "    }\n",
       "\n",
       "    .dataframe thead th {\n",
       "        text-align: right;\n",
       "    }\n",
       "</style>\n",
       "<table border=\"1\" class=\"dataframe\">\n",
       "  <thead>\n",
       "    <tr style=\"text-align: right;\">\n",
       "      <th></th>\n",
       "      <th>model</th>\n",
       "      <th>year</th>\n",
       "      <th>transmission</th>\n",
       "      <th>mileage</th>\n",
       "      <th>fuelType</th>\n",
       "      <th>tax</th>\n",
       "      <th>mpg</th>\n",
       "      <th>engineSize</th>\n",
       "      <th>Make</th>\n",
       "    </tr>\n",
       "  </thead>\n",
       "  <tbody>\n",
       "    <tr>\n",
       "      <th>0</th>\n",
       "      <td>A1</td>\n",
       "      <td>2017</td>\n",
       "      <td>Manual</td>\n",
       "      <td>15735</td>\n",
       "      <td>Petrol</td>\n",
       "      <td>150.0</td>\n",
       "      <td>55.4</td>\n",
       "      <td>1.4</td>\n",
       "      <td>audi</td>\n",
       "    </tr>\n",
       "    <tr>\n",
       "      <th>1</th>\n",
       "      <td>A6</td>\n",
       "      <td>2016</td>\n",
       "      <td>Automatic</td>\n",
       "      <td>36203</td>\n",
       "      <td>Diesel</td>\n",
       "      <td>20.0</td>\n",
       "      <td>64.2</td>\n",
       "      <td>2.0</td>\n",
       "      <td>audi</td>\n",
       "    </tr>\n",
       "    <tr>\n",
       "      <th>2</th>\n",
       "      <td>A1</td>\n",
       "      <td>2016</td>\n",
       "      <td>Manual</td>\n",
       "      <td>29946</td>\n",
       "      <td>Petrol</td>\n",
       "      <td>30.0</td>\n",
       "      <td>55.4</td>\n",
       "      <td>1.4</td>\n",
       "      <td>audi</td>\n",
       "    </tr>\n",
       "    <tr>\n",
       "      <th>3</th>\n",
       "      <td>A4</td>\n",
       "      <td>2017</td>\n",
       "      <td>Automatic</td>\n",
       "      <td>25952</td>\n",
       "      <td>Diesel</td>\n",
       "      <td>145.0</td>\n",
       "      <td>67.3</td>\n",
       "      <td>2.0</td>\n",
       "      <td>audi</td>\n",
       "    </tr>\n",
       "    <tr>\n",
       "      <th>4</th>\n",
       "      <td>A3</td>\n",
       "      <td>2019</td>\n",
       "      <td>Manual</td>\n",
       "      <td>1998</td>\n",
       "      <td>Petrol</td>\n",
       "      <td>145.0</td>\n",
       "      <td>49.6</td>\n",
       "      <td>1.0</td>\n",
       "      <td>audi</td>\n",
       "    </tr>\n",
       "  </tbody>\n",
       "</table>\n",
       "</div>"
      ],
      "text/plain": [
       "  model  year transmission  mileage fuelType    tax   mpg  engineSize  Make\n",
       "0    A1  2017       Manual    15735   Petrol  150.0  55.4         1.4  audi\n",
       "1    A6  2016    Automatic    36203   Diesel   20.0  64.2         2.0  audi\n",
       "2    A1  2016       Manual    29946   Petrol   30.0  55.4         1.4  audi\n",
       "3    A4  2017    Automatic    25952   Diesel  145.0  67.3         2.0  audi\n",
       "4    A3  2019       Manual     1998   Petrol  145.0  49.6         1.0  audi"
      ]
     },
     "execution_count": 499,
     "metadata": {},
     "output_type": "execute_result"
    }
   ],
   "source": [
    "data_x.head()"
   ]
  },
  {
   "cell_type": "code",
   "execution_count": 500,
   "metadata": {},
   "outputs": [
    {
     "data": {
      "text/html": [
       "<div>\n",
       "<style scoped>\n",
       "    .dataframe tbody tr th:only-of-type {\n",
       "        vertical-align: middle;\n",
       "    }\n",
       "\n",
       "    .dataframe tbody tr th {\n",
       "        vertical-align: top;\n",
       "    }\n",
       "\n",
       "    .dataframe thead th {\n",
       "        text-align: right;\n",
       "    }\n",
       "</style>\n",
       "<table border=\"1\" class=\"dataframe\">\n",
       "  <thead>\n",
       "    <tr style=\"text-align: right;\">\n",
       "      <th></th>\n",
       "      <th>model</th>\n",
       "      <th>year</th>\n",
       "      <th>transmission</th>\n",
       "      <th>mileage</th>\n",
       "      <th>fuelType</th>\n",
       "      <th>tax</th>\n",
       "      <th>mpg</th>\n",
       "      <th>engineSize</th>\n",
       "    </tr>\n",
       "    <tr>\n",
       "      <th>Make</th>\n",
       "      <th></th>\n",
       "      <th></th>\n",
       "      <th></th>\n",
       "      <th></th>\n",
       "      <th></th>\n",
       "      <th></th>\n",
       "      <th></th>\n",
       "      <th></th>\n",
       "    </tr>\n",
       "  </thead>\n",
       "  <tbody>\n",
       "    <tr>\n",
       "      <th>BMW</th>\n",
       "      <td>10781</td>\n",
       "      <td>10781</td>\n",
       "      <td>10781</td>\n",
       "      <td>10781</td>\n",
       "      <td>10781</td>\n",
       "      <td>10781</td>\n",
       "      <td>10781</td>\n",
       "      <td>10781</td>\n",
       "    </tr>\n",
       "    <tr>\n",
       "      <th>Ford</th>\n",
       "      <td>17964</td>\n",
       "      <td>17964</td>\n",
       "      <td>17964</td>\n",
       "      <td>17964</td>\n",
       "      <td>17964</td>\n",
       "      <td>17964</td>\n",
       "      <td>17964</td>\n",
       "      <td>17964</td>\n",
       "    </tr>\n",
       "    <tr>\n",
       "      <th>Hyundai</th>\n",
       "      <td>4860</td>\n",
       "      <td>4860</td>\n",
       "      <td>4860</td>\n",
       "      <td>4860</td>\n",
       "      <td>4860</td>\n",
       "      <td>4860</td>\n",
       "      <td>4860</td>\n",
       "      <td>4860</td>\n",
       "    </tr>\n",
       "    <tr>\n",
       "      <th>audi</th>\n",
       "      <td>10668</td>\n",
       "      <td>10668</td>\n",
       "      <td>10668</td>\n",
       "      <td>10668</td>\n",
       "      <td>10668</td>\n",
       "      <td>10668</td>\n",
       "      <td>10668</td>\n",
       "      <td>10668</td>\n",
       "    </tr>\n",
       "    <tr>\n",
       "      <th>skoda</th>\n",
       "      <td>6267</td>\n",
       "      <td>6267</td>\n",
       "      <td>6267</td>\n",
       "      <td>6267</td>\n",
       "      <td>6267</td>\n",
       "      <td>6267</td>\n",
       "      <td>6267</td>\n",
       "      <td>6267</td>\n",
       "    </tr>\n",
       "    <tr>\n",
       "      <th>toyota</th>\n",
       "      <td>6738</td>\n",
       "      <td>6738</td>\n",
       "      <td>6738</td>\n",
       "      <td>6738</td>\n",
       "      <td>6738</td>\n",
       "      <td>6738</td>\n",
       "      <td>6738</td>\n",
       "      <td>6738</td>\n",
       "    </tr>\n",
       "    <tr>\n",
       "      <th>vw</th>\n",
       "      <td>15157</td>\n",
       "      <td>15157</td>\n",
       "      <td>15157</td>\n",
       "      <td>15157</td>\n",
       "      <td>15157</td>\n",
       "      <td>15157</td>\n",
       "      <td>15157</td>\n",
       "      <td>15157</td>\n",
       "    </tr>\n",
       "  </tbody>\n",
       "</table>\n",
       "</div>"
      ],
      "text/plain": [
       "         model   year  transmission  mileage  fuelType    tax    mpg  \\\n",
       "Make                                                                   \n",
       "BMW      10781  10781         10781    10781     10781  10781  10781   \n",
       "Ford     17964  17964         17964    17964     17964  17964  17964   \n",
       "Hyundai   4860   4860          4860     4860      4860   4860   4860   \n",
       "audi     10668  10668         10668    10668     10668  10668  10668   \n",
       "skoda     6267   6267          6267     6267      6267   6267   6267   \n",
       "toyota    6738   6738          6738     6738      6738   6738   6738   \n",
       "vw       15157  15157         15157    15157     15157  15157  15157   \n",
       "\n",
       "         engineSize  \n",
       "Make                 \n",
       "BMW           10781  \n",
       "Ford          17964  \n",
       "Hyundai        4860  \n",
       "audi          10668  \n",
       "skoda          6267  \n",
       "toyota         6738  \n",
       "vw            15157  "
      ]
     },
     "execution_count": 500,
     "metadata": {},
     "output_type": "execute_result"
    }
   ],
   "source": [
    "data_x.groupby(['Make']).count()"
   ]
  },
  {
   "cell_type": "code",
   "execution_count": 501,
   "metadata": {},
   "outputs": [],
   "source": [
    "\n",
    "\n",
    "###dropping columns\n",
    "\n",
    "##as each model has same transmission,fuelType"
   ]
  },
  {
   "cell_type": "code",
   "execution_count": 502,
   "metadata": {},
   "outputs": [
    {
     "data": {
      "text/plain": [
       "Index([' Fiesta', ' Golf', ' Focus', ' Polo', ' 3 Series', ' Kuga', ' Yaris',\n",
       "       ' 1 Series', ' Aygo', ' A3'],\n",
       "      dtype='object')"
      ]
     },
     "execution_count": 502,
     "metadata": {},
     "output_type": "execute_result"
    }
   ],
   "source": [
    "data_x['model'].value_counts().index[:10]"
   ]
  },
  {
   "cell_type": "code",
   "execution_count": 503,
   "metadata": {},
   "outputs": [
    {
     "data": {
      "text/plain": [
       " Fiesta      6556\n",
       " Golf        4863\n",
       " Focus       4588\n",
       " Polo        3287\n",
       " 3 Series    2443\n",
       " Kuga        2225\n",
       " Yaris       2122\n",
       " 1 Series    1969\n",
       " Aygo        1961\n",
       " A3          1929\n",
       " Tiguan      1765\n",
       " Fabia       1571\n",
       " Octavia     1477\n",
       " Q3          1417\n",
       " A4          1381\n",
       " A1          1347\n",
       " Tucson      1300\n",
       " 2 Series    1229\n",
       " EcoSport    1143\n",
       " I10         1092\n",
       " 5 Series    1056\n",
       " 4 Series     995\n",
       " Passat       915\n",
       " Up           884\n",
       " A5           882\n",
       "Name: model, dtype: int64"
      ]
     },
     "execution_count": 503,
     "metadata": {},
     "output_type": "execute_result"
    }
   ],
   "source": [
    "data_x['model'].value_counts().sort_values(ascending=False).head(25)"
   ]
  },
  {
   "cell_type": "code",
   "execution_count": 504,
   "metadata": {},
   "outputs": [
    {
     "data": {
      "text/plain": [
       "146"
      ]
     },
     "execution_count": 504,
     "metadata": {},
     "output_type": "execute_result"
    }
   ],
   "source": [
    "len(data_x['model'].unique())"
   ]
  },
  {
   "cell_type": "code",
   "execution_count": 505,
   "metadata": {},
   "outputs": [
    {
     "name": "stdout",
     "output_type": "stream",
     "text": [
      "model : 146 lables\n",
      "year : 25 lables\n",
      "transmission : 4 lables\n",
      "mileage : 35743 lables\n",
      "fuelType : 5 lables\n",
      "tax : 47 lables\n",
      "mpg : 177 lables\n",
      "engineSize : 32 lables\n",
      "Make : 7 lables\n"
     ]
    }
   ],
   "source": [
    "for feature in data_x.columns[:]:\n",
    "    print(feature,\":\",len(data_x[feature].unique()), \"lables\")"
   ]
  },
  {
   "cell_type": "code",
   "execution_count": 506,
   "metadata": {},
   "outputs": [
    {
     "data": {
      "text/html": [
       "<div>\n",
       "<style scoped>\n",
       "    .dataframe tbody tr th:only-of-type {\n",
       "        vertical-align: middle;\n",
       "    }\n",
       "\n",
       "    .dataframe tbody tr th {\n",
       "        vertical-align: top;\n",
       "    }\n",
       "\n",
       "    .dataframe thead th {\n",
       "        text-align: right;\n",
       "    }\n",
       "</style>\n",
       "<table border=\"1\" class=\"dataframe\">\n",
       "  <thead>\n",
       "    <tr style=\"text-align: right;\">\n",
       "      <th></th>\n",
       "      <th>model</th>\n",
       "      <th>year</th>\n",
       "      <th>transmission</th>\n",
       "      <th>mileage</th>\n",
       "      <th>fuelType</th>\n",
       "      <th>tax</th>\n",
       "      <th>mpg</th>\n",
       "      <th>engineSize</th>\n",
       "      <th>Make</th>\n",
       "    </tr>\n",
       "  </thead>\n",
       "  <tbody>\n",
       "    <tr>\n",
       "      <th>72430</th>\n",
       "      <td>I30</td>\n",
       "      <td>2016</td>\n",
       "      <td>Manual</td>\n",
       "      <td>25906</td>\n",
       "      <td>Diesel</td>\n",
       "      <td>0.0</td>\n",
       "      <td>78.4</td>\n",
       "      <td>1.6</td>\n",
       "      <td>Hyundai</td>\n",
       "    </tr>\n",
       "    <tr>\n",
       "      <th>72431</th>\n",
       "      <td>I40</td>\n",
       "      <td>2015</td>\n",
       "      <td>Manual</td>\n",
       "      <td>59508</td>\n",
       "      <td>Diesel</td>\n",
       "      <td>30.0</td>\n",
       "      <td>65.7</td>\n",
       "      <td>1.7</td>\n",
       "      <td>Hyundai</td>\n",
       "    </tr>\n",
       "    <tr>\n",
       "      <th>72432</th>\n",
       "      <td>I10</td>\n",
       "      <td>2017</td>\n",
       "      <td>Manual</td>\n",
       "      <td>13810</td>\n",
       "      <td>Petrol</td>\n",
       "      <td>20.0</td>\n",
       "      <td>60.1</td>\n",
       "      <td>1.0</td>\n",
       "      <td>Hyundai</td>\n",
       "    </tr>\n",
       "    <tr>\n",
       "      <th>72433</th>\n",
       "      <td>Tucson</td>\n",
       "      <td>2018</td>\n",
       "      <td>Manual</td>\n",
       "      <td>23313</td>\n",
       "      <td>Petrol</td>\n",
       "      <td>145.0</td>\n",
       "      <td>44.8</td>\n",
       "      <td>1.6</td>\n",
       "      <td>Hyundai</td>\n",
       "    </tr>\n",
       "    <tr>\n",
       "      <th>72434</th>\n",
       "      <td>Tucson</td>\n",
       "      <td>2016</td>\n",
       "      <td>Automatic</td>\n",
       "      <td>11472</td>\n",
       "      <td>Diesel</td>\n",
       "      <td>125.0</td>\n",
       "      <td>57.6</td>\n",
       "      <td>1.7</td>\n",
       "      <td>Hyundai</td>\n",
       "    </tr>\n",
       "  </tbody>\n",
       "</table>\n",
       "</div>"
      ],
      "text/plain": [
       "         model  year transmission  mileage fuelType    tax   mpg  engineSize  \\\n",
       "72430      I30  2016       Manual    25906   Diesel    0.0  78.4         1.6   \n",
       "72431      I40  2015       Manual    59508   Diesel   30.0  65.7         1.7   \n",
       "72432      I10  2017       Manual    13810   Petrol   20.0  60.1         1.0   \n",
       "72433   Tucson  2018       Manual    23313   Petrol  145.0  44.8         1.6   \n",
       "72434   Tucson  2016    Automatic    11472   Diesel  125.0  57.6         1.7   \n",
       "\n",
       "          Make  \n",
       "72430  Hyundai  \n",
       "72431  Hyundai  \n",
       "72432  Hyundai  \n",
       "72433  Hyundai  \n",
       "72434  Hyundai  "
      ]
     },
     "execution_count": 506,
     "metadata": {},
     "output_type": "execute_result"
    }
   ],
   "source": [
    "data_x.tail()"
   ]
  },
  {
   "cell_type": "code",
   "execution_count": 507,
   "metadata": {},
   "outputs": [
    {
     "data": {
      "text/plain": [
       "[' Fiesta',\n",
       " ' Golf',\n",
       " ' Focus',\n",
       " ' Polo',\n",
       " ' 3 Series',\n",
       " ' Kuga',\n",
       " ' Yaris',\n",
       " ' 1 Series',\n",
       " ' Aygo',\n",
       " ' A3',\n",
       " ' Tiguan',\n",
       " ' Fabia',\n",
       " ' Octavia',\n",
       " ' Q3',\n",
       " ' A4',\n",
       " ' A1',\n",
       " ' Tucson',\n",
       " ' 2 Series',\n",
       " ' EcoSport',\n",
       " ' I10',\n",
       " ' 5 Series',\n",
       " ' 4 Series',\n",
       " ' Passat',\n",
       " ' Up',\n",
       " ' A5',\n",
       " ' Q5',\n",
       " ' Q2',\n",
       " ' X1',\n",
       " ' Superb',\n",
       " ' A6',\n",
       " ' T-Roc',\n",
       " ' Auris',\n",
       " ' X3',\n",
       " ' C-MAX',\n",
       " ' I30',\n",
       " ' Ka+',\n",
       " ' Mondeo',\n",
       " ' I20',\n",
       " ' C-HR',\n",
       " ' RAV4',\n",
       " ' Kodiaq',\n",
       " ' Citigo',\n",
       " ' X5',\n",
       " ' Yeti Outdoor',\n",
       " ' Q7',\n",
       " ' Karoq',\n",
       " ' Touareg',\n",
       " ' B-MAX',\n",
       " ' Touran',\n",
       " ' TT',\n",
       " ' Kona',\n",
       " ' T-Cross',\n",
       " ' S-MAX',\n",
       " ' X2',\n",
       " ' Ioniq',\n",
       " ' Golf SV',\n",
       " ' Corolla',\n",
       " ' Sharan',\n",
       " ' Arteon',\n",
       " ' Grand C-MAX',\n",
       " ' Santa Fe',\n",
       " ' Scirocco',\n",
       " ' Prius',\n",
       " ' Galaxy',\n",
       " ' Edge',\n",
       " ' IX20',\n",
       " ' KA',\n",
       " ' Scala',\n",
       " ' X4',\n",
       " ' Rapid',\n",
       " ' Kamiq',\n",
       " ' Yeti',\n",
       " ' I40',\n",
       " ' M4',\n",
       " ' A7',\n",
       " ' A8',\n",
       " ' IX35',\n",
       " ' I800',\n",
       " ' Avensis',\n",
       " ' Verso',\n",
       " ' Amarok',\n",
       " ' 6 Series',\n",
       " ' Z4',\n",
       " ' 7 Series',\n",
       " ' X6',\n",
       " ' Caravelle',\n",
       " ' CC',\n",
       " ' Tiguan Allspace',\n",
       " ' Hilux',\n",
       " ' Beetle',\n",
       " ' Puma',\n",
       " ' GT86',\n",
       " ' Q8',\n",
       " ' Tourneo Custom',\n",
       " ' Shuttle',\n",
       " ' Caddy Maxi Life',\n",
       " ' Grand Tourneo Connect',\n",
       " ' Mustang',\n",
       " ' X7',\n",
       " ' Land Cruiser',\n",
       " ' i3',\n",
       " ' 8 Series',\n",
       " ' RS6',\n",
       " ' Tourneo Connect',\n",
       " ' RS3',\n",
       " ' Jetta',\n",
       " ' RS4',\n",
       " ' M5',\n",
       " ' RS5',\n",
       " ' R8',\n",
       " ' M3',\n",
       " ' M2',\n",
       " ' S3',\n",
       " ' i8',\n",
       " ' Roomster',\n",
       " ' Fusion',\n",
       " ' SQ5',\n",
       " ' PROACE VERSO',\n",
       " ' California',\n",
       " ' Supra']"
      ]
     },
     "execution_count": 507,
     "metadata": {},
     "output_type": "execute_result"
    }
   ],
   "source": [
    "model_top_80=[x for x in data_x.model.value_counts().sort_values(ascending=False).head(120).index]\n",
    "model_top_80"
   ]
  },
  {
   "cell_type": "code",
   "execution_count": 508,
   "metadata": {},
   "outputs": [],
   "source": [
    "##applying KDD encoding##\n",
    "\n",
    "def kdd_one_hot(data,variable,lables):\n",
    "    for label in lables:\n",
    "        data[variable+'_'+label]=np.where(data[variable]==label,1,0)\n",
    "kdd_one_hot(data_x,'model',model_top_80)"
   ]
  },
  {
   "cell_type": "code",
   "execution_count": 509,
   "metadata": {},
   "outputs": [
    {
     "data": {
      "text/html": [
       "<div>\n",
       "<style scoped>\n",
       "    .dataframe tbody tr th:only-of-type {\n",
       "        vertical-align: middle;\n",
       "    }\n",
       "\n",
       "    .dataframe tbody tr th {\n",
       "        vertical-align: top;\n",
       "    }\n",
       "\n",
       "    .dataframe thead th {\n",
       "        text-align: right;\n",
       "    }\n",
       "</style>\n",
       "<table border=\"1\" class=\"dataframe\">\n",
       "  <thead>\n",
       "    <tr style=\"text-align: right;\">\n",
       "      <th></th>\n",
       "      <th>model</th>\n",
       "      <th>year</th>\n",
       "      <th>transmission</th>\n",
       "      <th>mileage</th>\n",
       "      <th>fuelType</th>\n",
       "      <th>tax</th>\n",
       "      <th>mpg</th>\n",
       "      <th>engineSize</th>\n",
       "      <th>Make</th>\n",
       "      <th>model_ Fiesta</th>\n",
       "      <th>...</th>\n",
       "      <th>model_ M3</th>\n",
       "      <th>model_ M2</th>\n",
       "      <th>model_ S3</th>\n",
       "      <th>model_ i8</th>\n",
       "      <th>model_ Roomster</th>\n",
       "      <th>model_ Fusion</th>\n",
       "      <th>model_ SQ5</th>\n",
       "      <th>model_ PROACE VERSO</th>\n",
       "      <th>model_ California</th>\n",
       "      <th>model_ Supra</th>\n",
       "    </tr>\n",
       "  </thead>\n",
       "  <tbody>\n",
       "    <tr>\n",
       "      <th>0</th>\n",
       "      <td>A1</td>\n",
       "      <td>2017</td>\n",
       "      <td>Manual</td>\n",
       "      <td>15735</td>\n",
       "      <td>Petrol</td>\n",
       "      <td>150.0</td>\n",
       "      <td>55.4</td>\n",
       "      <td>1.4</td>\n",
       "      <td>audi</td>\n",
       "      <td>0</td>\n",
       "      <td>...</td>\n",
       "      <td>0</td>\n",
       "      <td>0</td>\n",
       "      <td>0</td>\n",
       "      <td>0</td>\n",
       "      <td>0</td>\n",
       "      <td>0</td>\n",
       "      <td>0</td>\n",
       "      <td>0</td>\n",
       "      <td>0</td>\n",
       "      <td>0</td>\n",
       "    </tr>\n",
       "    <tr>\n",
       "      <th>1</th>\n",
       "      <td>A6</td>\n",
       "      <td>2016</td>\n",
       "      <td>Automatic</td>\n",
       "      <td>36203</td>\n",
       "      <td>Diesel</td>\n",
       "      <td>20.0</td>\n",
       "      <td>64.2</td>\n",
       "      <td>2.0</td>\n",
       "      <td>audi</td>\n",
       "      <td>0</td>\n",
       "      <td>...</td>\n",
       "      <td>0</td>\n",
       "      <td>0</td>\n",
       "      <td>0</td>\n",
       "      <td>0</td>\n",
       "      <td>0</td>\n",
       "      <td>0</td>\n",
       "      <td>0</td>\n",
       "      <td>0</td>\n",
       "      <td>0</td>\n",
       "      <td>0</td>\n",
       "    </tr>\n",
       "    <tr>\n",
       "      <th>2</th>\n",
       "      <td>A1</td>\n",
       "      <td>2016</td>\n",
       "      <td>Manual</td>\n",
       "      <td>29946</td>\n",
       "      <td>Petrol</td>\n",
       "      <td>30.0</td>\n",
       "      <td>55.4</td>\n",
       "      <td>1.4</td>\n",
       "      <td>audi</td>\n",
       "      <td>0</td>\n",
       "      <td>...</td>\n",
       "      <td>0</td>\n",
       "      <td>0</td>\n",
       "      <td>0</td>\n",
       "      <td>0</td>\n",
       "      <td>0</td>\n",
       "      <td>0</td>\n",
       "      <td>0</td>\n",
       "      <td>0</td>\n",
       "      <td>0</td>\n",
       "      <td>0</td>\n",
       "    </tr>\n",
       "    <tr>\n",
       "      <th>3</th>\n",
       "      <td>A4</td>\n",
       "      <td>2017</td>\n",
       "      <td>Automatic</td>\n",
       "      <td>25952</td>\n",
       "      <td>Diesel</td>\n",
       "      <td>145.0</td>\n",
       "      <td>67.3</td>\n",
       "      <td>2.0</td>\n",
       "      <td>audi</td>\n",
       "      <td>0</td>\n",
       "      <td>...</td>\n",
       "      <td>0</td>\n",
       "      <td>0</td>\n",
       "      <td>0</td>\n",
       "      <td>0</td>\n",
       "      <td>0</td>\n",
       "      <td>0</td>\n",
       "      <td>0</td>\n",
       "      <td>0</td>\n",
       "      <td>0</td>\n",
       "      <td>0</td>\n",
       "    </tr>\n",
       "    <tr>\n",
       "      <th>4</th>\n",
       "      <td>A3</td>\n",
       "      <td>2019</td>\n",
       "      <td>Manual</td>\n",
       "      <td>1998</td>\n",
       "      <td>Petrol</td>\n",
       "      <td>145.0</td>\n",
       "      <td>49.6</td>\n",
       "      <td>1.0</td>\n",
       "      <td>audi</td>\n",
       "      <td>0</td>\n",
       "      <td>...</td>\n",
       "      <td>0</td>\n",
       "      <td>0</td>\n",
       "      <td>0</td>\n",
       "      <td>0</td>\n",
       "      <td>0</td>\n",
       "      <td>0</td>\n",
       "      <td>0</td>\n",
       "      <td>0</td>\n",
       "      <td>0</td>\n",
       "      <td>0</td>\n",
       "    </tr>\n",
       "  </tbody>\n",
       "</table>\n",
       "<p>5 rows × 129 columns</p>\n",
       "</div>"
      ],
      "text/plain": [
       "  model  year transmission  mileage fuelType    tax   mpg  engineSize  Make  \\\n",
       "0    A1  2017       Manual    15735   Petrol  150.0  55.4         1.4  audi   \n",
       "1    A6  2016    Automatic    36203   Diesel   20.0  64.2         2.0  audi   \n",
       "2    A1  2016       Manual    29946   Petrol   30.0  55.4         1.4  audi   \n",
       "3    A4  2017    Automatic    25952   Diesel  145.0  67.3         2.0  audi   \n",
       "4    A3  2019       Manual     1998   Petrol  145.0  49.6         1.0  audi   \n",
       "\n",
       "   model_ Fiesta  ...  model_ M3  model_ M2  model_ S3  model_ i8  \\\n",
       "0              0  ...          0          0          0          0   \n",
       "1              0  ...          0          0          0          0   \n",
       "2              0  ...          0          0          0          0   \n",
       "3              0  ...          0          0          0          0   \n",
       "4              0  ...          0          0          0          0   \n",
       "\n",
       "   model_ Roomster  model_ Fusion  model_ SQ5  model_ PROACE VERSO  \\\n",
       "0                0              0           0                    0   \n",
       "1                0              0           0                    0   \n",
       "2                0              0           0                    0   \n",
       "3                0              0           0                    0   \n",
       "4                0              0           0                    0   \n",
       "\n",
       "   model_ California  model_ Supra  \n",
       "0                  0             0  \n",
       "1                  0             0  \n",
       "2                  0             0  \n",
       "3                  0             0  \n",
       "4                  0             0  \n",
       "\n",
       "[5 rows x 129 columns]"
      ]
     },
     "execution_count": 509,
     "metadata": {},
     "output_type": "execute_result"
    }
   ],
   "source": [
    "data_x.head()"
   ]
  },
  {
   "cell_type": "code",
   "execution_count": null,
   "metadata": {},
   "outputs": [],
   "source": []
  },
  {
   "cell_type": "code",
   "execution_count": 510,
   "metadata": {},
   "outputs": [
    {
     "data": {
      "text/plain": [
       "Index(['Manual', 'Semi-Auto', 'Automatic', 'Other'], dtype='object')"
      ]
     },
     "execution_count": 510,
     "metadata": {},
     "output_type": "execute_result"
    }
   ],
   "source": [
    "data_x.transmission.value_counts().index"
   ]
  },
  {
   "cell_type": "code",
   "execution_count": 511,
   "metadata": {},
   "outputs": [],
   "source": [
    "kdd_one_hot(data_x,'transmission',data_x.transmission.value_counts().index)"
   ]
  },
  {
   "cell_type": "code",
   "execution_count": 512,
   "metadata": {},
   "outputs": [
    {
     "data": {
      "text/html": [
       "<div>\n",
       "<style scoped>\n",
       "    .dataframe tbody tr th:only-of-type {\n",
       "        vertical-align: middle;\n",
       "    }\n",
       "\n",
       "    .dataframe tbody tr th {\n",
       "        vertical-align: top;\n",
       "    }\n",
       "\n",
       "    .dataframe thead th {\n",
       "        text-align: right;\n",
       "    }\n",
       "</style>\n",
       "<table border=\"1\" class=\"dataframe\">\n",
       "  <thead>\n",
       "    <tr style=\"text-align: right;\">\n",
       "      <th></th>\n",
       "      <th>model</th>\n",
       "      <th>year</th>\n",
       "      <th>transmission</th>\n",
       "      <th>mileage</th>\n",
       "      <th>fuelType</th>\n",
       "      <th>tax</th>\n",
       "      <th>mpg</th>\n",
       "      <th>engineSize</th>\n",
       "      <th>Make</th>\n",
       "      <th>model_ Fiesta</th>\n",
       "      <th>...</th>\n",
       "      <th>model_ Roomster</th>\n",
       "      <th>model_ Fusion</th>\n",
       "      <th>model_ SQ5</th>\n",
       "      <th>model_ PROACE VERSO</th>\n",
       "      <th>model_ California</th>\n",
       "      <th>model_ Supra</th>\n",
       "      <th>transmission_Manual</th>\n",
       "      <th>transmission_Semi-Auto</th>\n",
       "      <th>transmission_Automatic</th>\n",
       "      <th>transmission_Other</th>\n",
       "    </tr>\n",
       "  </thead>\n",
       "  <tbody>\n",
       "    <tr>\n",
       "      <th>0</th>\n",
       "      <td>A1</td>\n",
       "      <td>2017</td>\n",
       "      <td>Manual</td>\n",
       "      <td>15735</td>\n",
       "      <td>Petrol</td>\n",
       "      <td>150.0</td>\n",
       "      <td>55.4</td>\n",
       "      <td>1.4</td>\n",
       "      <td>audi</td>\n",
       "      <td>0</td>\n",
       "      <td>...</td>\n",
       "      <td>0</td>\n",
       "      <td>0</td>\n",
       "      <td>0</td>\n",
       "      <td>0</td>\n",
       "      <td>0</td>\n",
       "      <td>0</td>\n",
       "      <td>1</td>\n",
       "      <td>0</td>\n",
       "      <td>0</td>\n",
       "      <td>0</td>\n",
       "    </tr>\n",
       "    <tr>\n",
       "      <th>1</th>\n",
       "      <td>A6</td>\n",
       "      <td>2016</td>\n",
       "      <td>Automatic</td>\n",
       "      <td>36203</td>\n",
       "      <td>Diesel</td>\n",
       "      <td>20.0</td>\n",
       "      <td>64.2</td>\n",
       "      <td>2.0</td>\n",
       "      <td>audi</td>\n",
       "      <td>0</td>\n",
       "      <td>...</td>\n",
       "      <td>0</td>\n",
       "      <td>0</td>\n",
       "      <td>0</td>\n",
       "      <td>0</td>\n",
       "      <td>0</td>\n",
       "      <td>0</td>\n",
       "      <td>0</td>\n",
       "      <td>0</td>\n",
       "      <td>1</td>\n",
       "      <td>0</td>\n",
       "    </tr>\n",
       "    <tr>\n",
       "      <th>2</th>\n",
       "      <td>A1</td>\n",
       "      <td>2016</td>\n",
       "      <td>Manual</td>\n",
       "      <td>29946</td>\n",
       "      <td>Petrol</td>\n",
       "      <td>30.0</td>\n",
       "      <td>55.4</td>\n",
       "      <td>1.4</td>\n",
       "      <td>audi</td>\n",
       "      <td>0</td>\n",
       "      <td>...</td>\n",
       "      <td>0</td>\n",
       "      <td>0</td>\n",
       "      <td>0</td>\n",
       "      <td>0</td>\n",
       "      <td>0</td>\n",
       "      <td>0</td>\n",
       "      <td>1</td>\n",
       "      <td>0</td>\n",
       "      <td>0</td>\n",
       "      <td>0</td>\n",
       "    </tr>\n",
       "    <tr>\n",
       "      <th>3</th>\n",
       "      <td>A4</td>\n",
       "      <td>2017</td>\n",
       "      <td>Automatic</td>\n",
       "      <td>25952</td>\n",
       "      <td>Diesel</td>\n",
       "      <td>145.0</td>\n",
       "      <td>67.3</td>\n",
       "      <td>2.0</td>\n",
       "      <td>audi</td>\n",
       "      <td>0</td>\n",
       "      <td>...</td>\n",
       "      <td>0</td>\n",
       "      <td>0</td>\n",
       "      <td>0</td>\n",
       "      <td>0</td>\n",
       "      <td>0</td>\n",
       "      <td>0</td>\n",
       "      <td>0</td>\n",
       "      <td>0</td>\n",
       "      <td>1</td>\n",
       "      <td>0</td>\n",
       "    </tr>\n",
       "    <tr>\n",
       "      <th>4</th>\n",
       "      <td>A3</td>\n",
       "      <td>2019</td>\n",
       "      <td>Manual</td>\n",
       "      <td>1998</td>\n",
       "      <td>Petrol</td>\n",
       "      <td>145.0</td>\n",
       "      <td>49.6</td>\n",
       "      <td>1.0</td>\n",
       "      <td>audi</td>\n",
       "      <td>0</td>\n",
       "      <td>...</td>\n",
       "      <td>0</td>\n",
       "      <td>0</td>\n",
       "      <td>0</td>\n",
       "      <td>0</td>\n",
       "      <td>0</td>\n",
       "      <td>0</td>\n",
       "      <td>1</td>\n",
       "      <td>0</td>\n",
       "      <td>0</td>\n",
       "      <td>0</td>\n",
       "    </tr>\n",
       "  </tbody>\n",
       "</table>\n",
       "<p>5 rows × 133 columns</p>\n",
       "</div>"
      ],
      "text/plain": [
       "  model  year transmission  mileage fuelType    tax   mpg  engineSize  Make  \\\n",
       "0    A1  2017       Manual    15735   Petrol  150.0  55.4         1.4  audi   \n",
       "1    A6  2016    Automatic    36203   Diesel   20.0  64.2         2.0  audi   \n",
       "2    A1  2016       Manual    29946   Petrol   30.0  55.4         1.4  audi   \n",
       "3    A4  2017    Automatic    25952   Diesel  145.0  67.3         2.0  audi   \n",
       "4    A3  2019       Manual     1998   Petrol  145.0  49.6         1.0  audi   \n",
       "\n",
       "   model_ Fiesta  ...  model_ Roomster  model_ Fusion  model_ SQ5  \\\n",
       "0              0  ...                0              0           0   \n",
       "1              0  ...                0              0           0   \n",
       "2              0  ...                0              0           0   \n",
       "3              0  ...                0              0           0   \n",
       "4              0  ...                0              0           0   \n",
       "\n",
       "   model_ PROACE VERSO  model_ California  model_ Supra  transmission_Manual  \\\n",
       "0                    0                  0             0                    1   \n",
       "1                    0                  0             0                    0   \n",
       "2                    0                  0             0                    1   \n",
       "3                    0                  0             0                    0   \n",
       "4                    0                  0             0                    1   \n",
       "\n",
       "   transmission_Semi-Auto  transmission_Automatic  transmission_Other  \n",
       "0                       0                       0                   0  \n",
       "1                       0                       1                   0  \n",
       "2                       0                       0                   0  \n",
       "3                       0                       1                   0  \n",
       "4                       0                       0                   0  \n",
       "\n",
       "[5 rows x 133 columns]"
      ]
     },
     "execution_count": 512,
     "metadata": {},
     "output_type": "execute_result"
    }
   ],
   "source": [
    "data_x.head()"
   ]
  },
  {
   "cell_type": "code",
   "execution_count": 513,
   "metadata": {},
   "outputs": [
    {
     "data": {
      "text/html": [
       "<div>\n",
       "<style scoped>\n",
       "    .dataframe tbody tr th:only-of-type {\n",
       "        vertical-align: middle;\n",
       "    }\n",
       "\n",
       "    .dataframe tbody tr th {\n",
       "        vertical-align: top;\n",
       "    }\n",
       "\n",
       "    .dataframe thead th {\n",
       "        text-align: right;\n",
       "    }\n",
       "</style>\n",
       "<table border=\"1\" class=\"dataframe\">\n",
       "  <thead>\n",
       "    <tr style=\"text-align: right;\">\n",
       "      <th></th>\n",
       "      <th>model</th>\n",
       "      <th>year</th>\n",
       "      <th>transmission</th>\n",
       "      <th>mileage</th>\n",
       "      <th>fuelType</th>\n",
       "      <th>tax</th>\n",
       "      <th>mpg</th>\n",
       "      <th>engineSize</th>\n",
       "      <th>Make</th>\n",
       "      <th>model_ Fiesta</th>\n",
       "      <th>...</th>\n",
       "      <th>model_ Supra</th>\n",
       "      <th>transmission_Manual</th>\n",
       "      <th>transmission_Semi-Auto</th>\n",
       "      <th>transmission_Automatic</th>\n",
       "      <th>transmission_Other</th>\n",
       "      <th>fuelType_Petrol</th>\n",
       "      <th>fuelType_Diesel</th>\n",
       "      <th>fuelType_Hybrid</th>\n",
       "      <th>fuelType_Other</th>\n",
       "      <th>fuelType_Electric</th>\n",
       "    </tr>\n",
       "  </thead>\n",
       "  <tbody>\n",
       "    <tr>\n",
       "      <th>0</th>\n",
       "      <td>A1</td>\n",
       "      <td>2017</td>\n",
       "      <td>Manual</td>\n",
       "      <td>15735</td>\n",
       "      <td>Petrol</td>\n",
       "      <td>150.0</td>\n",
       "      <td>55.4</td>\n",
       "      <td>1.4</td>\n",
       "      <td>audi</td>\n",
       "      <td>0</td>\n",
       "      <td>...</td>\n",
       "      <td>0</td>\n",
       "      <td>1</td>\n",
       "      <td>0</td>\n",
       "      <td>0</td>\n",
       "      <td>0</td>\n",
       "      <td>1</td>\n",
       "      <td>0</td>\n",
       "      <td>0</td>\n",
       "      <td>0</td>\n",
       "      <td>0</td>\n",
       "    </tr>\n",
       "    <tr>\n",
       "      <th>1</th>\n",
       "      <td>A6</td>\n",
       "      <td>2016</td>\n",
       "      <td>Automatic</td>\n",
       "      <td>36203</td>\n",
       "      <td>Diesel</td>\n",
       "      <td>20.0</td>\n",
       "      <td>64.2</td>\n",
       "      <td>2.0</td>\n",
       "      <td>audi</td>\n",
       "      <td>0</td>\n",
       "      <td>...</td>\n",
       "      <td>0</td>\n",
       "      <td>0</td>\n",
       "      <td>0</td>\n",
       "      <td>1</td>\n",
       "      <td>0</td>\n",
       "      <td>0</td>\n",
       "      <td>1</td>\n",
       "      <td>0</td>\n",
       "      <td>0</td>\n",
       "      <td>0</td>\n",
       "    </tr>\n",
       "    <tr>\n",
       "      <th>2</th>\n",
       "      <td>A1</td>\n",
       "      <td>2016</td>\n",
       "      <td>Manual</td>\n",
       "      <td>29946</td>\n",
       "      <td>Petrol</td>\n",
       "      <td>30.0</td>\n",
       "      <td>55.4</td>\n",
       "      <td>1.4</td>\n",
       "      <td>audi</td>\n",
       "      <td>0</td>\n",
       "      <td>...</td>\n",
       "      <td>0</td>\n",
       "      <td>1</td>\n",
       "      <td>0</td>\n",
       "      <td>0</td>\n",
       "      <td>0</td>\n",
       "      <td>1</td>\n",
       "      <td>0</td>\n",
       "      <td>0</td>\n",
       "      <td>0</td>\n",
       "      <td>0</td>\n",
       "    </tr>\n",
       "    <tr>\n",
       "      <th>3</th>\n",
       "      <td>A4</td>\n",
       "      <td>2017</td>\n",
       "      <td>Automatic</td>\n",
       "      <td>25952</td>\n",
       "      <td>Diesel</td>\n",
       "      <td>145.0</td>\n",
       "      <td>67.3</td>\n",
       "      <td>2.0</td>\n",
       "      <td>audi</td>\n",
       "      <td>0</td>\n",
       "      <td>...</td>\n",
       "      <td>0</td>\n",
       "      <td>0</td>\n",
       "      <td>0</td>\n",
       "      <td>1</td>\n",
       "      <td>0</td>\n",
       "      <td>0</td>\n",
       "      <td>1</td>\n",
       "      <td>0</td>\n",
       "      <td>0</td>\n",
       "      <td>0</td>\n",
       "    </tr>\n",
       "    <tr>\n",
       "      <th>4</th>\n",
       "      <td>A3</td>\n",
       "      <td>2019</td>\n",
       "      <td>Manual</td>\n",
       "      <td>1998</td>\n",
       "      <td>Petrol</td>\n",
       "      <td>145.0</td>\n",
       "      <td>49.6</td>\n",
       "      <td>1.0</td>\n",
       "      <td>audi</td>\n",
       "      <td>0</td>\n",
       "      <td>...</td>\n",
       "      <td>0</td>\n",
       "      <td>1</td>\n",
       "      <td>0</td>\n",
       "      <td>0</td>\n",
       "      <td>0</td>\n",
       "      <td>1</td>\n",
       "      <td>0</td>\n",
       "      <td>0</td>\n",
       "      <td>0</td>\n",
       "      <td>0</td>\n",
       "    </tr>\n",
       "  </tbody>\n",
       "</table>\n",
       "<p>5 rows × 138 columns</p>\n",
       "</div>"
      ],
      "text/plain": [
       "  model  year transmission  mileage fuelType    tax   mpg  engineSize  Make  \\\n",
       "0    A1  2017       Manual    15735   Petrol  150.0  55.4         1.4  audi   \n",
       "1    A6  2016    Automatic    36203   Diesel   20.0  64.2         2.0  audi   \n",
       "2    A1  2016       Manual    29946   Petrol   30.0  55.4         1.4  audi   \n",
       "3    A4  2017    Automatic    25952   Diesel  145.0  67.3         2.0  audi   \n",
       "4    A3  2019       Manual     1998   Petrol  145.0  49.6         1.0  audi   \n",
       "\n",
       "   model_ Fiesta  ...  model_ Supra  transmission_Manual  \\\n",
       "0              0  ...             0                    1   \n",
       "1              0  ...             0                    0   \n",
       "2              0  ...             0                    1   \n",
       "3              0  ...             0                    0   \n",
       "4              0  ...             0                    1   \n",
       "\n",
       "   transmission_Semi-Auto  transmission_Automatic  transmission_Other  \\\n",
       "0                       0                       0                   0   \n",
       "1                       0                       1                   0   \n",
       "2                       0                       0                   0   \n",
       "3                       0                       1                   0   \n",
       "4                       0                       0                   0   \n",
       "\n",
       "   fuelType_Petrol  fuelType_Diesel  fuelType_Hybrid  fuelType_Other  \\\n",
       "0                1                0                0               0   \n",
       "1                0                1                0               0   \n",
       "2                1                0                0               0   \n",
       "3                0                1                0               0   \n",
       "4                1                0                0               0   \n",
       "\n",
       "   fuelType_Electric  \n",
       "0                  0  \n",
       "1                  0  \n",
       "2                  0  \n",
       "3                  0  \n",
       "4                  0  \n",
       "\n",
       "[5 rows x 138 columns]"
      ]
     },
     "execution_count": 513,
     "metadata": {},
     "output_type": "execute_result"
    }
   ],
   "source": [
    "kdd_one_hot(data_x,'fuelType',data_x.fuelType.value_counts().index)\n",
    "data_x.head()"
   ]
  },
  {
   "cell_type": "code",
   "execution_count": 514,
   "metadata": {},
   "outputs": [
    {
     "data": {
      "text/html": [
       "<div>\n",
       "<style scoped>\n",
       "    .dataframe tbody tr th:only-of-type {\n",
       "        vertical-align: middle;\n",
       "    }\n",
       "\n",
       "    .dataframe tbody tr th {\n",
       "        vertical-align: top;\n",
       "    }\n",
       "\n",
       "    .dataframe thead th {\n",
       "        text-align: right;\n",
       "    }\n",
       "</style>\n",
       "<table border=\"1\" class=\"dataframe\">\n",
       "  <thead>\n",
       "    <tr style=\"text-align: right;\">\n",
       "      <th></th>\n",
       "      <th>model</th>\n",
       "      <th>year</th>\n",
       "      <th>transmission</th>\n",
       "      <th>mileage</th>\n",
       "      <th>fuelType</th>\n",
       "      <th>tax</th>\n",
       "      <th>mpg</th>\n",
       "      <th>engineSize</th>\n",
       "      <th>Make</th>\n",
       "      <th>model_ Fiesta</th>\n",
       "      <th>...</th>\n",
       "      <th>fuelType_Hybrid</th>\n",
       "      <th>fuelType_Other</th>\n",
       "      <th>fuelType_Electric</th>\n",
       "      <th>Make_Ford</th>\n",
       "      <th>Make_vw</th>\n",
       "      <th>Make_BMW</th>\n",
       "      <th>Make_audi</th>\n",
       "      <th>Make_toyota</th>\n",
       "      <th>Make_skoda</th>\n",
       "      <th>Make_Hyundai</th>\n",
       "    </tr>\n",
       "  </thead>\n",
       "  <tbody>\n",
       "    <tr>\n",
       "      <th>0</th>\n",
       "      <td>A1</td>\n",
       "      <td>2017</td>\n",
       "      <td>Manual</td>\n",
       "      <td>15735</td>\n",
       "      <td>Petrol</td>\n",
       "      <td>150.0</td>\n",
       "      <td>55.4</td>\n",
       "      <td>1.4</td>\n",
       "      <td>audi</td>\n",
       "      <td>0</td>\n",
       "      <td>...</td>\n",
       "      <td>0</td>\n",
       "      <td>0</td>\n",
       "      <td>0</td>\n",
       "      <td>0</td>\n",
       "      <td>0</td>\n",
       "      <td>0</td>\n",
       "      <td>1</td>\n",
       "      <td>0</td>\n",
       "      <td>0</td>\n",
       "      <td>0</td>\n",
       "    </tr>\n",
       "    <tr>\n",
       "      <th>1</th>\n",
       "      <td>A6</td>\n",
       "      <td>2016</td>\n",
       "      <td>Automatic</td>\n",
       "      <td>36203</td>\n",
       "      <td>Diesel</td>\n",
       "      <td>20.0</td>\n",
       "      <td>64.2</td>\n",
       "      <td>2.0</td>\n",
       "      <td>audi</td>\n",
       "      <td>0</td>\n",
       "      <td>...</td>\n",
       "      <td>0</td>\n",
       "      <td>0</td>\n",
       "      <td>0</td>\n",
       "      <td>0</td>\n",
       "      <td>0</td>\n",
       "      <td>0</td>\n",
       "      <td>1</td>\n",
       "      <td>0</td>\n",
       "      <td>0</td>\n",
       "      <td>0</td>\n",
       "    </tr>\n",
       "    <tr>\n",
       "      <th>2</th>\n",
       "      <td>A1</td>\n",
       "      <td>2016</td>\n",
       "      <td>Manual</td>\n",
       "      <td>29946</td>\n",
       "      <td>Petrol</td>\n",
       "      <td>30.0</td>\n",
       "      <td>55.4</td>\n",
       "      <td>1.4</td>\n",
       "      <td>audi</td>\n",
       "      <td>0</td>\n",
       "      <td>...</td>\n",
       "      <td>0</td>\n",
       "      <td>0</td>\n",
       "      <td>0</td>\n",
       "      <td>0</td>\n",
       "      <td>0</td>\n",
       "      <td>0</td>\n",
       "      <td>1</td>\n",
       "      <td>0</td>\n",
       "      <td>0</td>\n",
       "      <td>0</td>\n",
       "    </tr>\n",
       "    <tr>\n",
       "      <th>3</th>\n",
       "      <td>A4</td>\n",
       "      <td>2017</td>\n",
       "      <td>Automatic</td>\n",
       "      <td>25952</td>\n",
       "      <td>Diesel</td>\n",
       "      <td>145.0</td>\n",
       "      <td>67.3</td>\n",
       "      <td>2.0</td>\n",
       "      <td>audi</td>\n",
       "      <td>0</td>\n",
       "      <td>...</td>\n",
       "      <td>0</td>\n",
       "      <td>0</td>\n",
       "      <td>0</td>\n",
       "      <td>0</td>\n",
       "      <td>0</td>\n",
       "      <td>0</td>\n",
       "      <td>1</td>\n",
       "      <td>0</td>\n",
       "      <td>0</td>\n",
       "      <td>0</td>\n",
       "    </tr>\n",
       "    <tr>\n",
       "      <th>4</th>\n",
       "      <td>A3</td>\n",
       "      <td>2019</td>\n",
       "      <td>Manual</td>\n",
       "      <td>1998</td>\n",
       "      <td>Petrol</td>\n",
       "      <td>145.0</td>\n",
       "      <td>49.6</td>\n",
       "      <td>1.0</td>\n",
       "      <td>audi</td>\n",
       "      <td>0</td>\n",
       "      <td>...</td>\n",
       "      <td>0</td>\n",
       "      <td>0</td>\n",
       "      <td>0</td>\n",
       "      <td>0</td>\n",
       "      <td>0</td>\n",
       "      <td>0</td>\n",
       "      <td>1</td>\n",
       "      <td>0</td>\n",
       "      <td>0</td>\n",
       "      <td>0</td>\n",
       "    </tr>\n",
       "  </tbody>\n",
       "</table>\n",
       "<p>5 rows × 145 columns</p>\n",
       "</div>"
      ],
      "text/plain": [
       "  model  year transmission  mileage fuelType    tax   mpg  engineSize  Make  \\\n",
       "0    A1  2017       Manual    15735   Petrol  150.0  55.4         1.4  audi   \n",
       "1    A6  2016    Automatic    36203   Diesel   20.0  64.2         2.0  audi   \n",
       "2    A1  2016       Manual    29946   Petrol   30.0  55.4         1.4  audi   \n",
       "3    A4  2017    Automatic    25952   Diesel  145.0  67.3         2.0  audi   \n",
       "4    A3  2019       Manual     1998   Petrol  145.0  49.6         1.0  audi   \n",
       "\n",
       "   model_ Fiesta  ...  fuelType_Hybrid  fuelType_Other  fuelType_Electric  \\\n",
       "0              0  ...                0               0                  0   \n",
       "1              0  ...                0               0                  0   \n",
       "2              0  ...                0               0                  0   \n",
       "3              0  ...                0               0                  0   \n",
       "4              0  ...                0               0                  0   \n",
       "\n",
       "   Make_Ford  Make_vw  Make_BMW  Make_audi  Make_toyota  Make_skoda  \\\n",
       "0          0        0         0          1            0           0   \n",
       "1          0        0         0          1            0           0   \n",
       "2          0        0         0          1            0           0   \n",
       "3          0        0         0          1            0           0   \n",
       "4          0        0         0          1            0           0   \n",
       "\n",
       "   Make_Hyundai  \n",
       "0             0  \n",
       "1             0  \n",
       "2             0  \n",
       "3             0  \n",
       "4             0  \n",
       "\n",
       "[5 rows x 145 columns]"
      ]
     },
     "execution_count": 514,
     "metadata": {},
     "output_type": "execute_result"
    }
   ],
   "source": [
    "kdd_one_hot(data_x,'Make',data_x.Make.value_counts().index)\n",
    "data_x.head()"
   ]
  },
  {
   "cell_type": "code",
   "execution_count": 515,
   "metadata": {},
   "outputs": [],
   "source": [
    "data_x=data_x.drop(['model','transmission','fuelType','Make'],axis=1)"
   ]
  },
  {
   "cell_type": "code",
   "execution_count": 516,
   "metadata": {},
   "outputs": [
    {
     "data": {
      "text/html": [
       "<div>\n",
       "<style scoped>\n",
       "    .dataframe tbody tr th:only-of-type {\n",
       "        vertical-align: middle;\n",
       "    }\n",
       "\n",
       "    .dataframe tbody tr th {\n",
       "        vertical-align: top;\n",
       "    }\n",
       "\n",
       "    .dataframe thead th {\n",
       "        text-align: right;\n",
       "    }\n",
       "</style>\n",
       "<table border=\"1\" class=\"dataframe\">\n",
       "  <thead>\n",
       "    <tr style=\"text-align: right;\">\n",
       "      <th></th>\n",
       "      <th>year</th>\n",
       "      <th>mileage</th>\n",
       "      <th>tax</th>\n",
       "      <th>mpg</th>\n",
       "      <th>engineSize</th>\n",
       "      <th>model_ Fiesta</th>\n",
       "      <th>model_ Golf</th>\n",
       "      <th>model_ Focus</th>\n",
       "      <th>model_ Polo</th>\n",
       "      <th>model_ 3 Series</th>\n",
       "      <th>...</th>\n",
       "      <th>fuelType_Hybrid</th>\n",
       "      <th>fuelType_Other</th>\n",
       "      <th>fuelType_Electric</th>\n",
       "      <th>Make_Ford</th>\n",
       "      <th>Make_vw</th>\n",
       "      <th>Make_BMW</th>\n",
       "      <th>Make_audi</th>\n",
       "      <th>Make_toyota</th>\n",
       "      <th>Make_skoda</th>\n",
       "      <th>Make_Hyundai</th>\n",
       "    </tr>\n",
       "  </thead>\n",
       "  <tbody>\n",
       "    <tr>\n",
       "      <th>0</th>\n",
       "      <td>2017</td>\n",
       "      <td>15735</td>\n",
       "      <td>150.0</td>\n",
       "      <td>55.4</td>\n",
       "      <td>1.4</td>\n",
       "      <td>0</td>\n",
       "      <td>0</td>\n",
       "      <td>0</td>\n",
       "      <td>0</td>\n",
       "      <td>0</td>\n",
       "      <td>...</td>\n",
       "      <td>0</td>\n",
       "      <td>0</td>\n",
       "      <td>0</td>\n",
       "      <td>0</td>\n",
       "      <td>0</td>\n",
       "      <td>0</td>\n",
       "      <td>1</td>\n",
       "      <td>0</td>\n",
       "      <td>0</td>\n",
       "      <td>0</td>\n",
       "    </tr>\n",
       "    <tr>\n",
       "      <th>1</th>\n",
       "      <td>2016</td>\n",
       "      <td>36203</td>\n",
       "      <td>20.0</td>\n",
       "      <td>64.2</td>\n",
       "      <td>2.0</td>\n",
       "      <td>0</td>\n",
       "      <td>0</td>\n",
       "      <td>0</td>\n",
       "      <td>0</td>\n",
       "      <td>0</td>\n",
       "      <td>...</td>\n",
       "      <td>0</td>\n",
       "      <td>0</td>\n",
       "      <td>0</td>\n",
       "      <td>0</td>\n",
       "      <td>0</td>\n",
       "      <td>0</td>\n",
       "      <td>1</td>\n",
       "      <td>0</td>\n",
       "      <td>0</td>\n",
       "      <td>0</td>\n",
       "    </tr>\n",
       "    <tr>\n",
       "      <th>2</th>\n",
       "      <td>2016</td>\n",
       "      <td>29946</td>\n",
       "      <td>30.0</td>\n",
       "      <td>55.4</td>\n",
       "      <td>1.4</td>\n",
       "      <td>0</td>\n",
       "      <td>0</td>\n",
       "      <td>0</td>\n",
       "      <td>0</td>\n",
       "      <td>0</td>\n",
       "      <td>...</td>\n",
       "      <td>0</td>\n",
       "      <td>0</td>\n",
       "      <td>0</td>\n",
       "      <td>0</td>\n",
       "      <td>0</td>\n",
       "      <td>0</td>\n",
       "      <td>1</td>\n",
       "      <td>0</td>\n",
       "      <td>0</td>\n",
       "      <td>0</td>\n",
       "    </tr>\n",
       "    <tr>\n",
       "      <th>3</th>\n",
       "      <td>2017</td>\n",
       "      <td>25952</td>\n",
       "      <td>145.0</td>\n",
       "      <td>67.3</td>\n",
       "      <td>2.0</td>\n",
       "      <td>0</td>\n",
       "      <td>0</td>\n",
       "      <td>0</td>\n",
       "      <td>0</td>\n",
       "      <td>0</td>\n",
       "      <td>...</td>\n",
       "      <td>0</td>\n",
       "      <td>0</td>\n",
       "      <td>0</td>\n",
       "      <td>0</td>\n",
       "      <td>0</td>\n",
       "      <td>0</td>\n",
       "      <td>1</td>\n",
       "      <td>0</td>\n",
       "      <td>0</td>\n",
       "      <td>0</td>\n",
       "    </tr>\n",
       "    <tr>\n",
       "      <th>4</th>\n",
       "      <td>2019</td>\n",
       "      <td>1998</td>\n",
       "      <td>145.0</td>\n",
       "      <td>49.6</td>\n",
       "      <td>1.0</td>\n",
       "      <td>0</td>\n",
       "      <td>0</td>\n",
       "      <td>0</td>\n",
       "      <td>0</td>\n",
       "      <td>0</td>\n",
       "      <td>...</td>\n",
       "      <td>0</td>\n",
       "      <td>0</td>\n",
       "      <td>0</td>\n",
       "      <td>0</td>\n",
       "      <td>0</td>\n",
       "      <td>0</td>\n",
       "      <td>1</td>\n",
       "      <td>0</td>\n",
       "      <td>0</td>\n",
       "      <td>0</td>\n",
       "    </tr>\n",
       "  </tbody>\n",
       "</table>\n",
       "<p>5 rows × 141 columns</p>\n",
       "</div>"
      ],
      "text/plain": [
       "   year  mileage    tax   mpg  engineSize  model_ Fiesta  model_ Golf  \\\n",
       "0  2017    15735  150.0  55.4         1.4              0            0   \n",
       "1  2016    36203   20.0  64.2         2.0              0            0   \n",
       "2  2016    29946   30.0  55.4         1.4              0            0   \n",
       "3  2017    25952  145.0  67.3         2.0              0            0   \n",
       "4  2019     1998  145.0  49.6         1.0              0            0   \n",
       "\n",
       "   model_ Focus  model_ Polo  model_ 3 Series  ...  fuelType_Hybrid  \\\n",
       "0             0            0                0  ...                0   \n",
       "1             0            0                0  ...                0   \n",
       "2             0            0                0  ...                0   \n",
       "3             0            0                0  ...                0   \n",
       "4             0            0                0  ...                0   \n",
       "\n",
       "   fuelType_Other  fuelType_Electric  Make_Ford  Make_vw  Make_BMW  Make_audi  \\\n",
       "0               0                  0          0        0         0          1   \n",
       "1               0                  0          0        0         0          1   \n",
       "2               0                  0          0        0         0          1   \n",
       "3               0                  0          0        0         0          1   \n",
       "4               0                  0          0        0         0          1   \n",
       "\n",
       "   Make_toyota  Make_skoda  Make_Hyundai  \n",
       "0            0           0             0  \n",
       "1            0           0             0  \n",
       "2            0           0             0  \n",
       "3            0           0             0  \n",
       "4            0           0             0  \n",
       "\n",
       "[5 rows x 141 columns]"
      ]
     },
     "execution_count": 516,
     "metadata": {},
     "output_type": "execute_result"
    }
   ],
   "source": [
    "data_x.head()"
   ]
  },
  {
   "cell_type": "code",
   "execution_count": 517,
   "metadata": {},
   "outputs": [
    {
     "name": "stdout",
     "output_type": "stream",
     "text": [
      "<class 'pandas.core.frame.DataFrame'>\n",
      "RangeIndex: 72435 entries, 0 to 72434\n",
      "Columns: 141 entries, year to Make_Hyundai\n",
      "dtypes: float64(3), int32(136), int64(2)\n",
      "memory usage: 40.3 MB\n"
     ]
    }
   ],
   "source": [
    "data_x.info()"
   ]
  },
  {
   "cell_type": "code",
   "execution_count": 518,
   "metadata": {},
   "outputs": [
    {
     "data": {
      "text/plain": [
       "<AxesSubplot:>"
      ]
     },
     "execution_count": 518,
     "metadata": {},
     "output_type": "execute_result"
    },
    {
     "data": {
      "image/png": "[encoded data removed]",
      "text/plain": [
       "<Figure size 432x288 with 1 Axes>"
      ]
     },
     "metadata": {
      "needs_background": "light"
     },
     "output_type": "display_data"
    }
   ],
   "source": [
    "import matplotlib.pyplot as plt\n",
    "data_x.boxplot(column=['year'])"
   ]
  },
  {
   "cell_type": "code",
   "execution_count": 519,
   "metadata": {},
   "outputs": [
    {
     "data": {
      "text/plain": [
       "count    72435.000000\n",
       "mean      2017.073666\n",
       "std          2.101252\n",
       "min       1996.000000\n",
       "25%       2016.000000\n",
       "50%       2017.000000\n",
       "75%       2019.000000\n",
       "max       2020.000000\n",
       "Name: year, dtype: float64"
      ]
     },
     "execution_count": 519,
     "metadata": {},
     "output_type": "execute_result"
    }
   ],
   "source": [
    "data_x['year'].describe()"
   ]
  },
  {
   "cell_type": "code",
   "execution_count": 520,
   "metadata": {},
   "outputs": [
    {
     "name": "stdout",
     "output_type": "stream",
     "text": [
      "2010 2023\n"
     ]
    }
   ],
   "source": [
    "###removing outliers\n",
    "\n",
    "##for year\n",
    "\n",
    "upper_boundary=int(data_x['year'].mean()+3*data_x['year'].std())\n",
    "lower_boundary=int(data_x['year'].mean()-3*data_x['year'].std())\n",
    "print(lower_boundary,upper_boundary)"
   ]
  },
  {
   "cell_type": "code",
   "execution_count": 521,
   "metadata": {},
   "outputs": [
    {
     "name": "stdout",
     "output_type": "stream",
     "text": [
      "2007 2028\n"
     ]
    }
   ],
   "source": [
    "##EXTREME Outliers\n",
    "IQR=data_x.year.quantile(0.75)-data_x.year.quantile(0.25)\n",
    "lower_bridge=int(data_x['year'].quantile(0.25)-(IQR*3))\n",
    "upper_bridge=int(data_x['year'].quantile(0.75)+(IQR*3))\n",
    "print(lower_bridge,upper_bridge)"
   ]
  },
  {
   "cell_type": "code",
   "execution_count": null,
   "metadata": {},
   "outputs": [],
   "source": [
    "\n",
    "\n",
    "\n",
    "\n",
    "\n"
   ]
  },
  {
   "cell_type": "code",
   "execution_count": 522,
   "metadata": {},
   "outputs": [
    {
     "data": {
      "text/plain": [
       "<AxesSubplot:>"
      ]
     },
     "execution_count": 522,
     "metadata": {},
     "output_type": "execute_result"
    },
    {
     "data": {
      "image/png": "[encoded data removed]",
      "text/plain": [
       "<Figure size 432x288 with 1 Axes>"
      ]
     },
     "metadata": {
      "needs_background": "light"
     },
     "output_type": "display_data"
    }
   ],
   "source": [
    "import matplotlib.pyplot as plt\n",
    "data_x.boxplot(column=['year'])"
   ]
  },
  {
   "cell_type": "code",
   "execution_count": 523,
   "metadata": {},
   "outputs": [
    {
     "data": {
      "text/plain": [
       "array([[<AxesSubplot:title={'center':'year'}>]], dtype=object)"
      ]
     },
     "execution_count": 523,
     "metadata": {},
     "output_type": "execute_result"
    },
    {
     "data": {
      "image/png": "[encoded data removed]",
      "text/plain": [
       "<Figure size 432x288 with 1 Axes>"
      ]
     },
     "metadata": {
      "needs_background": "light"
     },
     "output_type": "display_data"
    }
   ],
   "source": [
    "car_data.hist('year',bins=50)"
   ]
  },
  {
   "cell_type": "code",
   "execution_count": 524,
   "metadata": {},
   "outputs": [
    {
     "data": {
      "text/plain": [
       "count     72435.000000\n",
       "mean      23176.517057\n",
       "std       21331.515562\n",
       "min           1.000000\n",
       "25%        7202.500000\n",
       "50%       17531.000000\n",
       "75%       32449.000000\n",
       "max      323000.000000\n",
       "Name: mileage, dtype: float64"
      ]
     },
     "execution_count": 524,
     "metadata": {},
     "output_type": "execute_result"
    }
   ],
   "source": [
    "##removing mileage outliers\n",
    "\n",
    "data_x['mileage'].describe()"
   ]
  },
  {
   "cell_type": "code",
   "execution_count": 525,
   "metadata": {},
   "outputs": [
    {
     "data": {
      "text/plain": [
       "<AxesSubplot:>"
      ]
     },
     "execution_count": 525,
     "metadata": {},
     "output_type": "execute_result"
    },
    {
     "data": {
      "image/png": "[encoded data removed]",
      "text/plain": [
       "<Figure size 432x288 with 1 Axes>"
      ]
     },
     "metadata": {
      "needs_background": "light"
     },
     "output_type": "display_data"
    }
   ],
   "source": [
    "import matplotlib.pyplot as plt\n",
    "data_x.boxplot(column=['mileage'])"
   ]
  },
  {
   "cell_type": "code",
   "execution_count": 526,
   "metadata": {},
   "outputs": [
    {
     "data": {
      "text/plain": [
       "array([[<AxesSubplot:title={'center':'mileage'}>]], dtype=object)"
      ]
     },
     "execution_count": 526,
     "metadata": {},
     "output_type": "execute_result"
    },
    {
     "data": {
      "image/png": "[encoded data removed]",
      "text/plain": [
       "<Figure size 432x288 with 1 Axes>"
      ]
     },
     "metadata": {
      "needs_background": "light"
     },
     "output_type": "display_data"
    }
   ],
   "source": [
    "car_data.hist('mileage',bins=50)"
   ]
  },
  {
   "cell_type": "code",
   "execution_count": 527,
   "metadata": {},
   "outputs": [
    {
     "name": "stdout",
     "output_type": "stream",
     "text": [
      "-40818 87171\n"
     ]
    }
   ],
   "source": [
    "upper_boundary_mileage=int(data_x['mileage'].mean()+3*data_x['mileage'].std())\n",
    "lower_boundary_mileage=int(data_x['mileage'].mean()-3*data_x['mileage'].std())\n",
    "print(lower_boundary_mileage,upper_boundary_mileage)"
   ]
  },
  {
   "cell_type": "code",
   "execution_count": 528,
   "metadata": {},
   "outputs": [
    {
     "name": "stdout",
     "output_type": "stream",
     "text": [
      "-68537 108188\n"
     ]
    }
   ],
   "source": [
    "##EXTREME Outliers mileage\n",
    "IQR_mileage=data_x.mileage.quantile(0.75)-data_x.mileage.quantile(0.25)\n",
    "lower_bridge_mileage=int(data_x['mileage'].quantile(0.25)-(IQR_mileage*3))\n",
    "upper_bridge_mileage=int(data_x['mileage'].quantile(0.75)+(IQR_mileage*3))\n",
    "print(lower_bridge_mileage,upper_bridge_mileage)"
   ]
  },
  {
   "cell_type": "code",
   "execution_count": 529,
   "metadata": {},
   "outputs": [],
   "source": [
    "data_x.loc[data_x['mileage']<=lower_bridge_mileage,'mileage']=lower_bridge_mileage\n",
    "data_x.loc[data_x['mileage']>=upper_bridge_mileage,'mileage']=upper_bridge_mileage"
   ]
  },
  {
   "cell_type": "code",
   "execution_count": 530,
   "metadata": {},
   "outputs": [
    {
     "data": {
      "text/plain": [
       "<AxesSubplot:>"
      ]
     },
     "execution_count": 530,
     "metadata": {},
     "output_type": "execute_result"
    },
    {
     "data": {
      "image/png": "[encoded data removed]",
      "text/plain": [
       "<Figure size 432x288 with 1 Axes>"
      ]
     },
     "metadata": {
      "needs_background": "light"
     },
     "output_type": "display_data"
    }
   ],
   "source": [
    "import matplotlib.pyplot as plt\n",
    "data_x.boxplot(column=['mileage'])"
   ]
  },
  {
   "cell_type": "code",
   "execution_count": 531,
   "metadata": {},
   "outputs": [
    {
     "data": {
      "text/plain": [
       "count    72435.000000\n",
       "mean       116.953407\n",
       "std         64.045533\n",
       "min          0.000000\n",
       "25%         30.000000\n",
       "50%        145.000000\n",
       "75%        145.000000\n",
       "max        580.000000\n",
       "Name: tax, dtype: float64"
      ]
     },
     "execution_count": 531,
     "metadata": {},
     "output_type": "execute_result"
    }
   ],
   "source": [
    "##removing tax outliers\n",
    "\n",
    "data_x['tax'].describe()"
   ]
  },
  {
   "cell_type": "code",
   "execution_count": 532,
   "metadata": {},
   "outputs": [
    {
     "data": {
      "text/plain": [
       "array([[<AxesSubplot:title={'center':'tax'}>]], dtype=object)"
      ]
     },
     "execution_count": 532,
     "metadata": {},
     "output_type": "execute_result"
    },
    {
     "data": {
      "image/png": "[encoded data removed]",
      "text/plain": [
       "<Figure size 432x288 with 1 Axes>"
      ]
     },
     "metadata": {
      "needs_background": "light"
     },
     "output_type": "display_data"
    }
   ],
   "source": [
    "data_x.hist('tax', bins=50)"
   ]
  },
  {
   "cell_type": "code",
   "execution_count": 533,
   "metadata": {},
   "outputs": [
    {
     "data": {
      "text/plain": [
       "<AxesSubplot:>"
      ]
     },
     "execution_count": 533,
     "metadata": {},
     "output_type": "execute_result"
    },
    {
     "data": {
      "image/png": "[encoded data removed]",
      "text/plain": [
       "<Figure size 432x288 with 1 Axes>"
      ]
     },
     "metadata": {
      "needs_background": "light"
     },
     "output_type": "display_data"
    }
   ],
   "source": [
    "data_x.boxplot(column=['tax'])"
   ]
  },
  {
   "cell_type": "code",
   "execution_count": 534,
   "metadata": {},
   "outputs": [
    {
     "name": "stdout",
     "output_type": "stream",
     "text": [
      "-75 309\n"
     ]
    }
   ],
   "source": [
    "upper_boundary_tax=int(data_x['tax'].mean()+3*data_x['tax'].std())\n",
    "lower_boundary_tax=int(data_x['tax'].mean()-3*data_x['tax'].std())\n",
    "print(lower_boundary_tax,upper_boundary_tax)"
   ]
  },
  {
   "cell_type": "code",
   "execution_count": 535,
   "metadata": {},
   "outputs": [
    {
     "name": "stdout",
     "output_type": "stream",
     "text": [
      "-315 490\n"
     ]
    }
   ],
   "source": [
    "##EXTREME Outliers tax\n",
    "IQR_tax=data_x.tax.quantile(0.75)-data_x.tax.quantile(0.25)\n",
    "lower_bridge_tax=int(data_x['tax'].quantile(0.25)-(IQR_tax*3))\n",
    "upper_bridge_tax=int(data_x['tax'].quantile(0.75)+(IQR_tax*3))\n",
    "print(lower_bridge_tax,upper_bridge_tax)"
   ]
  },
  {
   "cell_type": "code",
   "execution_count": 536,
   "metadata": {},
   "outputs": [],
   "source": [
    "data_x.loc[data_x['tax']<=lower_bridge_tax,'tax']=lower_bridge_tax\n",
    "data_x.loc[data_x['tax']>=upper_bridge_tax,'tax']=upper_bridge_tax"
   ]
  },
  {
   "cell_type": "code",
   "execution_count": 537,
   "metadata": {},
   "outputs": [
    {
     "data": {
      "text/plain": [
       "<AxesSubplot:>"
      ]
     },
     "execution_count": 537,
     "metadata": {},
     "output_type": "execute_result"
    },
    {
     "data": {
      "image/png": "[encoded data removed]",
      "text/plain": [
       "<Figure size 432x288 with 1 Axes>"
      ]
     },
     "metadata": {
      "needs_background": "light"
     },
     "output_type": "display_data"
    }
   ],
   "source": [
    "data_x.boxplot('tax')"
   ]
  },
  {
   "cell_type": "code",
   "execution_count": 538,
   "metadata": {},
   "outputs": [
    {
     "data": {
      "text/plain": [
       "145.0    34376\n",
       "150.0     8525\n",
       "20.0      6399\n",
       "30.0      6182\n",
       "0.0       5762\n",
       "125.0     4117\n",
       "160.0     1465\n",
       "200.0     1412\n",
       "135.0     1180\n",
       "235.0      494\n",
       "165.0      478\n",
       "205.0      409\n",
       "260.0      399\n",
       "140.0      325\n",
       "300.0      227\n",
       "240.0      132\n",
       "265.0      129\n",
       "325.0      118\n",
       "490.0      103\n",
       "305.0       53\n",
       "Name: tax, dtype: int64"
      ]
     },
     "execution_count": 538,
     "metadata": {},
     "output_type": "execute_result"
    }
   ],
   "source": [
    "data_x.tax.describe()\n",
    "data_x.tax.value_counts().sort_values(ascending=False).head(20)"
   ]
  },
  {
   "cell_type": "code",
   "execution_count": 539,
   "metadata": {},
   "outputs": [
    {
     "data": {
      "text/plain": [
       "count    72435.000000\n",
       "mean        55.852480\n",
       "std         17.114391\n",
       "min          0.300000\n",
       "25%         47.900000\n",
       "50%         55.400000\n",
       "75%         62.800000\n",
       "max        470.800000\n",
       "Name: mpg, dtype: float64"
      ]
     },
     "execution_count": 539,
     "metadata": {},
     "output_type": "execute_result"
    }
   ],
   "source": [
    "###removing outliers MPG\n",
    "\n",
    "data_x['mpg'].describe()"
   ]
  },
  {
   "cell_type": "code",
   "execution_count": 540,
   "metadata": {},
   "outputs": [
    {
     "data": {
      "text/plain": [
       "array([[<AxesSubplot:title={'center':'mpg'}>]], dtype=object)"
      ]
     },
     "execution_count": 540,
     "metadata": {},
     "output_type": "execute_result"
    },
    {
     "data": {
      "image/png": "[encoded data removed]",
      "text/plain": [
       "<Figure size 432x288 with 1 Axes>"
      ]
     },
     "metadata": {
      "needs_background": "light"
     },
     "output_type": "display_data"
    }
   ],
   "source": [
    "data_x.hist('mpg',bins=50)"
   ]
  },
  {
   "cell_type": "code",
   "execution_count": 541,
   "metadata": {},
   "outputs": [
    {
     "data": {
      "text/plain": [
       "<AxesSubplot:>"
      ]
     },
     "execution_count": 541,
     "metadata": {},
     "output_type": "execute_result"
    },
    {
     "data": {
      "image/png": "[encoded data removed]",
      "text/plain": [
       "<Figure size 432x288 with 1 Axes>"
      ]
     },
     "metadata": {
      "needs_background": "light"
     },
     "output_type": "display_data"
    }
   ],
   "source": [
    "data_x.boxplot('mpg')"
   ]
  },
  {
   "cell_type": "code",
   "execution_count": 542,
   "metadata": {},
   "outputs": [
    {
     "name": "stdout",
     "output_type": "stream",
     "text": [
      "4 107\n"
     ]
    }
   ],
   "source": [
    "upper_boundary_mpg=int(data_x['mpg'].mean()+3*data_x['mpg'].std())\n",
    "lower_boundary_mpg=int(data_x['mpg'].mean()-3*data_x['mpg'].std())\n",
    "print(lower_boundary_mpg,upper_boundary_mpg)"
   ]
  },
  {
   "cell_type": "code",
   "execution_count": 543,
   "metadata": {},
   "outputs": [
    {
     "name": "stdout",
     "output_type": "stream",
     "text": [
      "3 107\n"
     ]
    }
   ],
   "source": [
    "##EXTREME Outliers tax\n",
    "IQR_mpg=data_x.mpg.quantile(0.75)-data_x.mpg.quantile(0.25)\n",
    "lower_bridge_mpg=int(data_x['mpg'].quantile(0.25)-(IQR_mpg*3))\n",
    "upper_bridge_mpg=int(data_x['mpg'].quantile(0.75)+(IQR_mpg*3))\n",
    "print(lower_bridge_mpg,upper_bridge_mpg)"
   ]
  },
  {
   "cell_type": "code",
   "execution_count": 544,
   "metadata": {},
   "outputs": [],
   "source": [
    "data_x.loc[data_x['mpg']<=lower_bridge_mpg,'mpg']=lower_bridge_mpg\n",
    "data_x.loc[data_x['mpg']>=upper_bridge_mpg,'mpg']=upper_bridge_mpg"
   ]
  },
  {
   "cell_type": "code",
   "execution_count": 545,
   "metadata": {},
   "outputs": [
    {
     "data": {
      "text/plain": [
       "<AxesSubplot:>"
      ]
     },
     "execution_count": 545,
     "metadata": {},
     "output_type": "execute_result"
    },
    {
     "data": {
      "image/png": "[encoded data removed]",
      "text/plain": [
       "<Figure size 432x288 with 1 Axes>"
      ]
     },
     "metadata": {
      "needs_background": "light"
     },
     "output_type": "display_data"
    }
   ],
   "source": [
    "data_x.boxplot('mpg')"
   ]
  },
  {
   "cell_type": "code",
   "execution_count": 546,
   "metadata": {},
   "outputs": [
    {
     "data": {
      "text/plain": [
       "count    72435.000000\n",
       "mean         1.635650\n",
       "std          0.561535\n",
       "min          0.000000\n",
       "25%          1.200000\n",
       "50%          1.600000\n",
       "75%          2.000000\n",
       "max          6.600000\n",
       "Name: engineSize, dtype: float64"
      ]
     },
     "execution_count": 546,
     "metadata": {},
     "output_type": "execute_result"
    }
   ],
   "source": [
    "###removing outliers engineSize\n",
    "\n",
    "data_x['engineSize'].describe()"
   ]
  },
  {
   "cell_type": "code",
   "execution_count": 547,
   "metadata": {},
   "outputs": [
    {
     "data": {
      "text/plain": [
       "array([[<AxesSubplot:title={'center':'engineSize'}>]], dtype=object)"
      ]
     },
     "execution_count": 547,
     "metadata": {},
     "output_type": "execute_result"
    },
    {
     "data": {
      "image/png": "[encoded data removed]",
      "text/plain": [
       "<Figure size 432x288 with 1 Axes>"
      ]
     },
     "metadata": {
      "needs_background": "light"
     },
     "output_type": "display_data"
    }
   ],
   "source": [
    "data_x.hist('engineSize', bins=50)"
   ]
  },
  {
   "cell_type": "code",
   "execution_count": 548,
   "metadata": {},
   "outputs": [
    {
     "data": {
      "text/plain": [
       "<AxesSubplot:>"
      ]
     },
     "execution_count": 548,
     "metadata": {},
     "output_type": "execute_result"
    },
    {
     "data": {
      "image/png": "[encoded data removed]",
      "text/plain": [
       "<Figure size 432x288 with 1 Axes>"
      ]
     },
     "metadata": {
      "needs_background": "light"
     },
     "output_type": "display_data"
    }
   ],
   "source": [
    "data_x.boxplot('engineSize')"
   ]
  },
  {
   "cell_type": "code",
   "execution_count": 549,
   "metadata": {},
   "outputs": [
    {
     "name": "stdout",
     "output_type": "stream",
     "text": [
      "0 3\n"
     ]
    }
   ],
   "source": [
    "upper_boundary_engineSize=int(data_x['engineSize'].mean()+3*data_x['engineSize'].std())\n",
    "lower_boundary_engineSize=int(data_x['engineSize'].mean()-3*data_x['engineSize'].std())\n",
    "print(lower_boundary_engineSize,upper_boundary_engineSize)"
   ]
  },
  {
   "cell_type": "code",
   "execution_count": 550,
   "metadata": {},
   "outputs": [
    {
     "name": "stdout",
     "output_type": "stream",
     "text": [
      "-1 4\n"
     ]
    }
   ],
   "source": [
    "##EXTREME Outliers tax\n",
    "IQR_engineSize=data_x.engineSize.quantile(0.75)-data_x.engineSize.quantile(0.25)\n",
    "lower_bridge_engineSize=int(data_x['engineSize'].quantile(0.25)-(IQR_engineSize*3))\n",
    "upper_bridge_engineSize=int(data_x['engineSize'].quantile(0.75)+(IQR_engineSize*3))\n",
    "print(lower_bridge_engineSize,upper_bridge_engineSize)"
   ]
  },
  {
   "cell_type": "code",
   "execution_count": 551,
   "metadata": {},
   "outputs": [],
   "source": [
    "data_x.loc[data_x['engineSize']<=lower_bridge_engineSize,'engineSize']=lower_bridge_engineSize\n",
    "data_x.loc[data_x['engineSize']>=upper_bridge_engineSize,'engineSize']=upper_bridge_engineSize"
   ]
  },
  {
   "cell_type": "code",
   "execution_count": 552,
   "metadata": {},
   "outputs": [
    {
     "data": {
      "text/plain": [
       "<AxesSubplot:>"
      ]
     },
     "execution_count": 552,
     "metadata": {},
     "output_type": "execute_result"
    },
    {
     "data": {
      "image/png": "[encoded data removed]",
      "text/plain": [
       "<Figure size 432x288 with 1 Axes>"
      ]
     },
     "metadata": {
      "needs_background": "light"
     },
     "output_type": "display_data"
    }
   ],
   "source": [
    "data_x.boxplot('engineSize')"
   ]
  },
  {
   "cell_type": "code",
   "execution_count": 553,
   "metadata": {},
   "outputs": [],
   "source": [
    "###Linear Regression###\n",
    "\n",
    "from sklearn.linear_model import LinearRegression\n",
    "from sklearn.model_selection import train_test_split, cross_val_predict"
   ]
  },
  {
   "cell_type": "code",
   "execution_count": null,
   "metadata": {},
   "outputs": [],
   "source": []
  },
  {
   "cell_type": "code",
   "execution_count": 554,
   "metadata": {},
   "outputs": [],
   "source": [
    "x_train,x_test,y_train,y_test = train_test_split(data_x,data_y,test_size=0.22, random_state=42)\n",
    "regr = LinearRegression().fit(x_train,y_train)\n",
    "price_prediction = regr.predict(x_test)"
   ]
  },
  {
   "cell_type": "code",
   "execution_count": 555,
   "metadata": {},
   "outputs": [
    {
     "name": "stdout",
     "output_type": "stream",
     "text": [
      "Test split evaluation \n",
      " Coefficient of determination R2: 0.888 \n",
      " Mean Absolute Error: 2025.66 \n",
      " Mean Square Error: 9965319.96\n"
     ]
    }
   ],
   "source": [
    "from sklearn.metrics import mean_squared_error, r2_score\n",
    "#R2 coefficient, MAE and MSE measures\n",
    "print('Test split evaluation \\n',\n",
    "      'Coefficient of determination R2: %.3f \\n' % r2_score(y_test, price_prediction),\n",
    "      'Mean Absolute Error: %.2f \\n' % (sum(abs(y_test - price_prediction)) / len(y_test)),    \n",
    "      'Mean Square Error: %.2f' % mean_squared_error(y_test, price_prediction))"
   ]
  },
  {
   "cell_type": "code",
   "execution_count": 556,
   "metadata": {},
   "outputs": [
    {
     "data": {
      "image/png": "[encoded data removed]",
      "text/plain": [
       "<Figure size 720x288 with 1 Axes>"
      ]
     },
     "metadata": {
      "needs_background": "light"
     },
     "output_type": "display_data"
    }
   ],
   "source": [
    "#Predictions plot\n",
    "import matplotlib.pyplot as plt\n",
    "plt.figure(figsize=(10,4))\n",
    "\n",
    "def plot_regression(real, predicted, color, title):\n",
    "  plt.scatter(real, predicted, color=color)\n",
    "  plt.plot([real.min(), real.max()], [real.min(), real.max()], 'k--', lw=4)\n",
    "  plt.xlabel('Real Price')\n",
    "  plt.ylabel('Predicted')\n",
    "  plt.title(title)\n",
    "\n",
    "\n",
    "#Real price vs train-test predictions plot (without outliers)\n",
    "plt.subplot(131)\n",
    "plot_regression(y_test, price_prediction, 'cornflowerblue', 'Linear Regression Predictions \\nTrain-test split')\n",
    "plt.show()"
   ]
  },
  {
   "cell_type": "code",
   "execution_count": 557,
   "metadata": {},
   "outputs": [
    {
     "data": {
      "text/plain": [
       "0.8878933133249473"
      ]
     },
     "execution_count": 557,
     "metadata": {},
     "output_type": "execute_result"
    }
   ],
   "source": [
    "from sklearn.metrics import r2_score\n",
    "r2_score(y_test,price_prediction)"
   ]
  },
  {
   "cell_type": "code",
   "execution_count": 558,
   "metadata": {},
   "outputs": [
    {
     "data": {
      "text/plain": [
       "0.8878933133249473"
      ]
     },
     "execution_count": 558,
     "metadata": {},
     "output_type": "execute_result"
    }
   ],
   "source": [
    "regr.score(x_test,y_test)"
   ]
  },
  {
   "cell_type": "code",
   "execution_count": 559,
   "metadata": {},
   "outputs": [
    {
     "data": {
      "text/plain": [
       "-2690293.3612551014"
      ]
     },
     "execution_count": 559,
     "metadata": {},
     "output_type": "execute_result"
    }
   ],
   "source": [
    "regr.intercept_"
   ]
  },
  {
   "cell_type": "code",
   "execution_count": 560,
   "metadata": {},
   "outputs": [
    {
     "data": {
      "text/plain": [
       "array([ 1.34830880e+03, -8.96851326e-02, -1.32754034e+01, -1.51637936e+02,\n",
       "        3.82878584e+03, -9.69869236e+03, -6.13838598e+02, -7.93344319e+03,\n",
       "       -3.27659733e+03, -1.00146454e+04, -8.28592296e+03, -3.80826543e+03,\n",
       "       -1.25010847e+04, -3.30976205e+03, -1.07843297e+04,  1.89942554e+03,\n",
       "       -2.97358356e+03, -1.04771362e+03, -8.22526373e+03, -9.95239163e+03,\n",
       "       -1.26040528e+04, -6.28521733e+03, -1.18903927e+04, -9.76710950e+03,\n",
       "       -1.01004623e+04, -7.94454776e+03, -9.57706653e+03, -2.32227626e+02,\n",
       "       -5.62251306e+03, -8.39377157e+03, -3.40580233e+03, -9.76569488e+03,\n",
       "       -9.91053365e+03,  1.41296091e+03, -7.82437902e+03,  1.45697337e+03,\n",
       "       -2.74798020e+03, -4.36022242e+03, -1.02747351e+04, -6.83690637e+03,\n",
       "       -1.45229345e+04, -8.32907498e+03, -9.29297562e+03,  1.36113280e+03,\n",
       "        2.88255618e+02,  5.02135442e+03, -3.74230417e+03,  3.75279926e+03,\n",
       "       -1.05993030e+03,  6.33069391e+03,  2.24668355e+03,  7.24156150e+03,\n",
       "       -1.13869026e+04,  1.15199378e+03, -7.96587532e+03, -6.88343087e+03,\n",
       "       -1.12095566e+02, -5.57314001e+03, -7.58325876e+03, -7.74610077e+03,\n",
       "       -2.45993643e+03,  2.57545899e+02,  4.91984374e+02,  2.78701875e+03,\n",
       "       -1.00089335e+04, -6.37265954e+02, -1.96204688e+03,  2.83740831e+03,\n",
       "       -5.02210448e+03, -3.77809430e+03, -1.01027382e+04, -1.13111014e+04,\n",
       "       -2.05995699e+03, -2.84738108e+03, -2.51523218e+03,  4.49591409e+01,\n",
       "       -8.23145199e+02, -6.60214929e+03,  3.33031570e+03, -5.96960436e+03,\n",
       "       -1.89489754e+03, -5.31362363e+03, -1.07747675e+04, -4.81136003e+02,\n",
       "       -1.48120205e+03,  3.80441334e+03, -8.19190008e+03, -7.27207233e+03,\n",
       "        6.92971058e+02,  7.16179071e+03,  1.72912154e+04, -2.30668522e+03,\n",
       "        4.25417209e+03,  2.18535437e+03, -1.26654385e+03, -3.84726365e+03,\n",
       "        1.25419187e+03,  1.75155503e+04, -6.20247825e+03,  1.83164977e+03,\n",
       "       -3.11218046e+03, -7.32081038e+03, -2.78179445e+03,  2.74719013e+04,\n",
       "        1.61525880e+04, -9.17470123e+02,  2.05658583e+04,  1.66297030e+04,\n",
       "       -8.20508452e+03, -9.33584732e+02, -3.56388015e+03,  1.10174609e+04,\n",
       "        1.40345901e+04,  1.01497255e+04,  5.51504909e+04, -3.70244688e+02,\n",
       "        1.64618072e+03, -6.94925050e+03,  2.92358187e+04, -4.95827953e+02,\n",
       "       -4.58805856e+03,  8.00070447e+01,  5.71815942e+03,  3.32565632e+04,\n",
       "        2.26112983e+04, -6.85370374e+02,  1.08210134e+03,  2.98307172e+02,\n",
       "       -6.95038141e+02, -2.44269687e+03, -2.17219749e+03,  3.49393701e+03,\n",
       "       -2.35436872e+01,  1.14450103e+03,  2.25560418e+03, -4.32680697e+03,\n",
       "        7.37688324e+03,  7.75290352e+03, -6.36427062e+03, -5.99173594e+03,\n",
       "       -7.02577405e+02])"
      ]
     },
     "execution_count": 560,
     "metadata": {},
     "output_type": "execute_result"
    }
   ],
   "source": [
    "regr.coef_"
   ]
  },
  {
   "cell_type": "code",
   "execution_count": null,
   "metadata": {},
   "outputs": [],
   "source": []
  },
  {
   "cell_type": "code",
   "execution_count": null,
   "metadata": {},
   "outputs": [],
   "source": []
  },
  {
   "cell_type": "code",
   "execution_count": null,
   "metadata": {},
   "outputs": [],
   "source": []
  }
 ],
 "metadata": {
  "kernelspec": {
   "display_name": "Python 3",
   "language": "python",
   "name": "python3"
  },
  "language_info": {
   "codemirror_mode": {
    "name": "ipython",
    "version": 3
   },
   "file_extension": ".py",
   "mimetype": "text/x-python",
   "name": "python",
   "nbconvert_exporter": "python",
   "pygments_lexer": "ipython3",
   "version": "3.8.5"
  }
 },
 "nbformat": 4,
 "nbformat_minor": 4
}
