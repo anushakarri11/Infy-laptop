{
 "cells": [
  {
   "cell_type": "code",
   "execution_count": 2,
   "metadata": {},
   "outputs": [],
   "source": [
    "import pandas as pd\n",
    "import numpy as np\n",
    "from sklearn.model_selection import train_test_split\n",
    "from matplotlib import pyplot as plt\n",
    "from keras.models import Sequential\n",
    "from keras.layers import Dense\n",
    "\n"
   ]
  },
  {
   "cell_type": "code",
   "execution_count": 3,
   "metadata": {},
   "outputs": [],
   "source": [
    "data=pd.read_csv('D:/ML_practice/Diabetis_diagnose_LogisticReg/framingham.csv')"
   ]
  },
  {
   "cell_type": "code",
   "execution_count": 4,
   "metadata": {},
   "outputs": [
    {
     "data": {
      "text/plain": [
       "male                 0\n",
       "age                  0\n",
       "education          105\n",
       "currentSmoker        0\n",
       "cigsPerDay          29\n",
       "BPMeds              53\n",
       "prevalentStroke      0\n",
       "prevalentHyp         0\n",
       "diabetes             0\n",
       "totChol             50\n",
       "sysBP                0\n",
       "diaBP                0\n",
       "BMI                 19\n",
       "heartRate            1\n",
       "glucose            388\n",
       "TenYearCHD           0\n",
       "dtype: int64"
      ]
     },
     "execution_count": 4,
     "metadata": {},
     "output_type": "execute_result"
    }
   ],
   "source": [
    "data.isna().sum()"
   ]
  },
  {
   "cell_type": "code",
   "execution_count": 6,
   "metadata": {},
   "outputs": [],
   "source": [
    "def imputation(value):\n",
    "    imputation1=data[value].median()\n",
    "    data[value]=data[value].fillna(imputation1)\n",
    "    #data_x.value.isna().value_counts()\n",
    "    \n",
    "list1=['education','cigsPerDay','BPMeds','totChol','BMI','heartRate','glucose']\n",
    "for val in list1:\n",
    "    imputation(val)"
   ]
  },
  {
   "cell_type": "code",
   "execution_count": 7,
   "metadata": {},
   "outputs": [
    {
     "data": {
      "text/plain": [
       "male               0\n",
       "age                0\n",
       "education          0\n",
       "currentSmoker      0\n",
       "cigsPerDay         0\n",
       "BPMeds             0\n",
       "prevalentStroke    0\n",
       "prevalentHyp       0\n",
       "diabetes           0\n",
       "totChol            0\n",
       "sysBP              0\n",
       "diaBP              0\n",
       "BMI                0\n",
       "heartRate          0\n",
       "glucose            0\n",
       "TenYearCHD         0\n",
       "dtype: int64"
      ]
     },
     "execution_count": 7,
     "metadata": {},
     "output_type": "execute_result"
    }
   ],
   "source": [
    "data.isna().sum()"
   ]
  },
  {
   "cell_type": "code",
   "execution_count": 9,
   "metadata": {},
   "outputs": [],
   "source": [
    "data_y=data['diabetes']\n",
    "data_x=data.drop(['diabetes'],axis=1)"
   ]
  },
  {
   "cell_type": "code",
   "execution_count": 10,
   "metadata": {},
   "outputs": [
    {
     "data": {
      "text/html": [
       "<div>\n",
       "<style scoped>\n",
       "    .dataframe tbody tr th:only-of-type {\n",
       "        vertical-align: middle;\n",
       "    }\n",
       "\n",
       "    .dataframe tbody tr th {\n",
       "        vertical-align: top;\n",
       "    }\n",
       "\n",
       "    .dataframe thead th {\n",
       "        text-align: right;\n",
       "    }\n",
       "</style>\n",
       "<table border=\"1\" class=\"dataframe\">\n",
       "  <thead>\n",
       "    <tr style=\"text-align: right;\">\n",
       "      <th></th>\n",
       "      <th>male</th>\n",
       "      <th>age</th>\n",
       "      <th>education</th>\n",
       "      <th>currentSmoker</th>\n",
       "      <th>cigsPerDay</th>\n",
       "      <th>BPMeds</th>\n",
       "      <th>prevalentStroke</th>\n",
       "      <th>prevalentHyp</th>\n",
       "      <th>totChol</th>\n",
       "      <th>sysBP</th>\n",
       "      <th>diaBP</th>\n",
       "      <th>BMI</th>\n",
       "      <th>heartRate</th>\n",
       "      <th>glucose</th>\n",
       "      <th>TenYearCHD</th>\n",
       "    </tr>\n",
       "  </thead>\n",
       "  <tbody>\n",
       "    <tr>\n",
       "      <th>0</th>\n",
       "      <td>1</td>\n",
       "      <td>39</td>\n",
       "      <td>4.0</td>\n",
       "      <td>0</td>\n",
       "      <td>0.0</td>\n",
       "      <td>0.0</td>\n",
       "      <td>0</td>\n",
       "      <td>0</td>\n",
       "      <td>195.0</td>\n",
       "      <td>106.0</td>\n",
       "      <td>70.0</td>\n",
       "      <td>26.97</td>\n",
       "      <td>80.0</td>\n",
       "      <td>77.0</td>\n",
       "      <td>0</td>\n",
       "    </tr>\n",
       "    <tr>\n",
       "      <th>1</th>\n",
       "      <td>0</td>\n",
       "      <td>46</td>\n",
       "      <td>2.0</td>\n",
       "      <td>0</td>\n",
       "      <td>0.0</td>\n",
       "      <td>0.0</td>\n",
       "      <td>0</td>\n",
       "      <td>0</td>\n",
       "      <td>250.0</td>\n",
       "      <td>121.0</td>\n",
       "      <td>81.0</td>\n",
       "      <td>28.73</td>\n",
       "      <td>95.0</td>\n",
       "      <td>76.0</td>\n",
       "      <td>0</td>\n",
       "    </tr>\n",
       "    <tr>\n",
       "      <th>2</th>\n",
       "      <td>1</td>\n",
       "      <td>48</td>\n",
       "      <td>1.0</td>\n",
       "      <td>1</td>\n",
       "      <td>20.0</td>\n",
       "      <td>0.0</td>\n",
       "      <td>0</td>\n",
       "      <td>0</td>\n",
       "      <td>245.0</td>\n",
       "      <td>127.5</td>\n",
       "      <td>80.0</td>\n",
       "      <td>25.34</td>\n",
       "      <td>75.0</td>\n",
       "      <td>70.0</td>\n",
       "      <td>0</td>\n",
       "    </tr>\n",
       "    <tr>\n",
       "      <th>3</th>\n",
       "      <td>0</td>\n",
       "      <td>61</td>\n",
       "      <td>3.0</td>\n",
       "      <td>1</td>\n",
       "      <td>30.0</td>\n",
       "      <td>0.0</td>\n",
       "      <td>0</td>\n",
       "      <td>1</td>\n",
       "      <td>225.0</td>\n",
       "      <td>150.0</td>\n",
       "      <td>95.0</td>\n",
       "      <td>28.58</td>\n",
       "      <td>65.0</td>\n",
       "      <td>103.0</td>\n",
       "      <td>1</td>\n",
       "    </tr>\n",
       "    <tr>\n",
       "      <th>4</th>\n",
       "      <td>0</td>\n",
       "      <td>46</td>\n",
       "      <td>3.0</td>\n",
       "      <td>1</td>\n",
       "      <td>23.0</td>\n",
       "      <td>0.0</td>\n",
       "      <td>0</td>\n",
       "      <td>0</td>\n",
       "      <td>285.0</td>\n",
       "      <td>130.0</td>\n",
       "      <td>84.0</td>\n",
       "      <td>23.10</td>\n",
       "      <td>85.0</td>\n",
       "      <td>85.0</td>\n",
       "      <td>0</td>\n",
       "    </tr>\n",
       "  </tbody>\n",
       "</table>\n",
       "</div>"
      ],
      "text/plain": [
       "   male  age  education  currentSmoker  cigsPerDay  BPMeds  prevalentStroke  \\\n",
       "0     1   39        4.0              0         0.0     0.0                0   \n",
       "1     0   46        2.0              0         0.0     0.0                0   \n",
       "2     1   48        1.0              1        20.0     0.0                0   \n",
       "3     0   61        3.0              1        30.0     0.0                0   \n",
       "4     0   46        3.0              1        23.0     0.0                0   \n",
       "\n",
       "   prevalentHyp  totChol  sysBP  diaBP    BMI  heartRate  glucose  TenYearCHD  \n",
       "0             0    195.0  106.0   70.0  26.97       80.0     77.0           0  \n",
       "1             0    250.0  121.0   81.0  28.73       95.0     76.0           0  \n",
       "2             0    245.0  127.5   80.0  25.34       75.0     70.0           0  \n",
       "3             1    225.0  150.0   95.0  28.58       65.0    103.0           1  \n",
       "4             0    285.0  130.0   84.0  23.10       85.0     85.0           0  "
      ]
     },
     "execution_count": 10,
     "metadata": {},
     "output_type": "execute_result"
    }
   ],
   "source": [
    "data_x.head()"
   ]
  },
  {
   "cell_type": "code",
   "execution_count": 11,
   "metadata": {},
   "outputs": [
    {
     "data": {
      "text/plain": [
       "0    4129\n",
       "1     109\n",
       "Name: diabetes, dtype: int64"
      ]
     },
     "execution_count": 11,
     "metadata": {},
     "output_type": "execute_result"
    }
   ],
   "source": [
    "data_y.value_counts()"
   ]
  },
  {
   "cell_type": "code",
   "execution_count": 12,
   "metadata": {},
   "outputs": [],
   "source": [
    "x_train,x_text,y_train,y_test=train_test_split(data_x,data_y,test_size=0.2)"
   ]
  },
  {
   "cell_type": "code",
   "execution_count": 24,
   "metadata": {},
   "outputs": [],
   "source": [
    "model=Sequential()\n",
    "model.add(Dense(20,input_dim=15,activation='relu'))\n",
    "model.add(Dense(10,activation='relu'))\n",
    "model.add(Dense(5,activation='relu'))\n",
    "model.add(Dense(1,activation='sigmoid'))"
   ]
  },
  {
   "cell_type": "code",
   "execution_count": 26,
   "metadata": {},
   "outputs": [
    {
     "name": "stdout",
     "output_type": "stream",
     "text": [
      "Epoch 1/100\n",
      "306/306 [==============================] - 3s 3ms/step - loss: 4.8726 - accuracy: 0.7750 - val_loss: 0.0880 - val_accuracy: 0.9853\n",
      "Epoch 2/100\n",
      "306/306 [==============================] - 1s 2ms/step - loss: 0.0890 - accuracy: 0.9856 - val_loss: 0.0470 - val_accuracy: 0.9853\n",
      "Epoch 3/100\n",
      "306/306 [==============================] - 1s 2ms/step - loss: 0.0974 - accuracy: 0.9822 - val_loss: 0.0549 - val_accuracy: 0.9853\n",
      "Epoch 4/100\n",
      "306/306 [==============================] - 1s 2ms/step - loss: 0.0946 - accuracy: 0.9812 - val_loss: 0.0738 - val_accuracy: 0.9882\n",
      "Epoch 5/100\n",
      "306/306 [==============================] - 1s 2ms/step - loss: 0.0747 - accuracy: 0.9861 - val_loss: 0.0577 - val_accuracy: 0.9882\n",
      "Epoch 6/100\n",
      "306/306 [==============================] - 0s 1ms/step - loss: 0.0734 - accuracy: 0.9848 - val_loss: 0.0561 - val_accuracy: 0.9882\n",
      "Epoch 7/100\n",
      "306/306 [==============================] - 0s 1ms/step - loss: 0.0922 - accuracy: 0.9821 - val_loss: 0.0915 - val_accuracy: 0.9794\n",
      "Epoch 8/100\n",
      "306/306 [==============================] - 0s 2ms/step - loss: 0.0838 - accuracy: 0.9806 - val_loss: 0.0433 - val_accuracy: 0.9912\n",
      "Epoch 9/100\n",
      "306/306 [==============================] - 1s 2ms/step - loss: 0.0864 - accuracy: 0.9826 - val_loss: 0.0447 - val_accuracy: 0.9882\n",
      "Epoch 10/100\n",
      "306/306 [==============================] - 1s 2ms/step - loss: 0.0869 - accuracy: 0.9794 - val_loss: 0.0502 - val_accuracy: 0.9882\n",
      "Epoch 11/100\n",
      "306/306 [==============================] - 1s 2ms/step - loss: 0.0795 - accuracy: 0.9842 - val_loss: 0.0469 - val_accuracy: 0.9882\n",
      "Epoch 12/100\n",
      "306/306 [==============================] - 1s 2ms/step - loss: 0.0928 - accuracy: 0.9780 - val_loss: 0.0534 - val_accuracy: 0.9882\n",
      "Epoch 13/100\n",
      "306/306 [==============================] - 1s 2ms/step - loss: 0.0800 - accuracy: 0.9827 - val_loss: 0.0378 - val_accuracy: 0.9912\n",
      "Epoch 14/100\n",
      "306/306 [==============================] - 1s 2ms/step - loss: 0.0696 - accuracy: 0.9854 - val_loss: 0.0446 - val_accuracy: 0.9912\n",
      "Epoch 15/100\n",
      "306/306 [==============================] - 1s 2ms/step - loss: 0.0877 - accuracy: 0.9815 - val_loss: 0.0447 - val_accuracy: 0.9882\n",
      "Epoch 16/100\n",
      "306/306 [==============================] - 1s 2ms/step - loss: 0.0844 - accuracy: 0.9810 - val_loss: 0.0400 - val_accuracy: 0.9882\n",
      "Epoch 17/100\n",
      "306/306 [==============================] - 1s 2ms/step - loss: 0.0810 - accuracy: 0.9835 - val_loss: 0.0715 - val_accuracy: 0.9823\n",
      "Epoch 18/100\n",
      "306/306 [==============================] - 1s 2ms/step - loss: 0.0827 - accuracy: 0.9816 - val_loss: 0.0572 - val_accuracy: 0.9882\n",
      "Epoch 19/100\n",
      "306/306 [==============================] - 1s 2ms/step - loss: 0.0754 - accuracy: 0.9817 - val_loss: 0.0420 - val_accuracy: 0.9882\n",
      "Epoch 20/100\n",
      "306/306 [==============================] - 1s 2ms/step - loss: 0.0952 - accuracy: 0.9793 - val_loss: 0.0350 - val_accuracy: 0.9912\n",
      "Epoch 21/100\n",
      "306/306 [==============================] - 0s 2ms/step - loss: 0.0836 - accuracy: 0.9822 - val_loss: 0.0351 - val_accuracy: 0.9912\n",
      "Epoch 22/100\n",
      "306/306 [==============================] - 1s 2ms/step - loss: 0.0858 - accuracy: 0.9800 - val_loss: 0.0481 - val_accuracy: 0.9882\n",
      "Epoch 23/100\n",
      "306/306 [==============================] - 1s 2ms/step - loss: 0.0819 - accuracy: 0.9821 - val_loss: 0.0494 - val_accuracy: 0.9882\n",
      "Epoch 24/100\n",
      "306/306 [==============================] - 1s 2ms/step - loss: 0.0855 - accuracy: 0.9819 - val_loss: 0.0418 - val_accuracy: 0.9882\n",
      "Epoch 25/100\n",
      "306/306 [==============================] - 1s 2ms/step - loss: 0.0659 - accuracy: 0.9846 - val_loss: 0.0529 - val_accuracy: 0.9882\n",
      "Epoch 26/100\n",
      "306/306 [==============================] - 0s 2ms/step - loss: 0.0728 - accuracy: 0.9840 - val_loss: 0.0529 - val_accuracy: 0.9882\n",
      "Epoch 27/100\n",
      "306/306 [==============================] - 0s 1ms/step - loss: 0.0666 - accuracy: 0.9858 - val_loss: 0.0462 - val_accuracy: 0.9882\n",
      "Epoch 28/100\n",
      "306/306 [==============================] - 1s 2ms/step - loss: 0.0731 - accuracy: 0.9820 - val_loss: 0.0586 - val_accuracy: 0.9853\n",
      "Epoch 29/100\n",
      "306/306 [==============================] - 1s 2ms/step - loss: 0.0670 - accuracy: 0.9846 - val_loss: 0.0374 - val_accuracy: 0.9882\n",
      "Epoch 30/100\n",
      "306/306 [==============================] - 1s 2ms/step - loss: 0.0796 - accuracy: 0.9828 - val_loss: 0.0276 - val_accuracy: 0.9912\n",
      "Epoch 31/100\n",
      "306/306 [==============================] - 1s 2ms/step - loss: 0.0645 - accuracy: 0.9852 - val_loss: 0.0332 - val_accuracy: 0.9912\n",
      "Epoch 32/100\n",
      "306/306 [==============================] - 1s 2ms/step - loss: 0.0782 - accuracy: 0.9817 - val_loss: 0.0470 - val_accuracy: 0.9882\n",
      "Epoch 33/100\n",
      "306/306 [==============================] - 1s 2ms/step - loss: 0.0726 - accuracy: 0.9839 - val_loss: 0.0447 - val_accuracy: 0.9882\n",
      "Epoch 34/100\n",
      "306/306 [==============================] - 1s 2ms/step - loss: 0.0752 - accuracy: 0.9820 - val_loss: 0.0372 - val_accuracy: 0.9882\n",
      "Epoch 35/100\n",
      "306/306 [==============================] - 0s 2ms/step - loss: 0.0786 - accuracy: 0.9824 - val_loss: 0.0370 - val_accuracy: 0.9882\n",
      "Epoch 36/100\n",
      "306/306 [==============================] - 1s 2ms/step - loss: 0.0542 - accuracy: 0.9863 - val_loss: 0.0476 - val_accuracy: 0.9882\n",
      "Epoch 37/100\n",
      "306/306 [==============================] - 1s 2ms/step - loss: 0.0677 - accuracy: 0.9843 - val_loss: 0.0352 - val_accuracy: 0.9882\n",
      "Epoch 38/100\n",
      "306/306 [==============================] - 1s 2ms/step - loss: 0.0756 - accuracy: 0.9821 - val_loss: 0.0426 - val_accuracy: 0.9882\n",
      "Epoch 39/100\n",
      "306/306 [==============================] - 0s 2ms/step - loss: 0.0773 - accuracy: 0.9823 - val_loss: 0.0383 - val_accuracy: 0.9882\n",
      "Epoch 40/100\n",
      "306/306 [==============================] - 1s 2ms/step - loss: 0.0749 - accuracy: 0.9820 - val_loss: 0.0343 - val_accuracy: 0.9882\n",
      "Epoch 41/100\n",
      "306/306 [==============================] - 1s 2ms/step - loss: 0.0629 - accuracy: 0.9866 - val_loss: 0.0363 - val_accuracy: 0.9882\n",
      "Epoch 42/100\n",
      "306/306 [==============================] - 1s 2ms/step - loss: 0.0652 - accuracy: 0.9857 - val_loss: 0.0380 - val_accuracy: 0.9882\n",
      "Epoch 43/100\n",
      "306/306 [==============================] - 1s 2ms/step - loss: 0.0763 - accuracy: 0.9838 - val_loss: 0.0376 - val_accuracy: 0.9882\n",
      "Epoch 44/100\n",
      "306/306 [==============================] - 1s 2ms/step - loss: 0.0731 - accuracy: 0.9822 - val_loss: 0.0424 - val_accuracy: 0.9882\n",
      "Epoch 45/100\n",
      "306/306 [==============================] - 1s 2ms/step - loss: 0.0675 - accuracy: 0.9849 - val_loss: 0.0363 - val_accuracy: 0.9882\n",
      "Epoch 46/100\n",
      "306/306 [==============================] - 1s 2ms/step - loss: 0.0747 - accuracy: 0.9798 - val_loss: 0.0373 - val_accuracy: 0.9882\n",
      "Epoch 47/100\n",
      "306/306 [==============================] - 1s 2ms/step - loss: 0.0648 - accuracy: 0.9830 - val_loss: 0.0376 - val_accuracy: 0.9882\n",
      "Epoch 48/100\n",
      "306/306 [==============================] - 1s 2ms/step - loss: 0.0587 - accuracy: 0.9849 - val_loss: 0.0345 - val_accuracy: 0.9882\n",
      "Epoch 49/100\n",
      "306/306 [==============================] - 0s 1ms/step - loss: 0.0716 - accuracy: 0.9835 - val_loss: 0.0412 - val_accuracy: 0.9882\n",
      "Epoch 50/100\n",
      "306/306 [==============================] - 0s 2ms/step - loss: 0.0772 - accuracy: 0.9822 - val_loss: 0.0398 - val_accuracy: 0.9882\n",
      "Epoch 51/100\n",
      "306/306 [==============================] - 1s 2ms/step - loss: 0.0646 - accuracy: 0.9861 - val_loss: 0.0346 - val_accuracy: 0.9882\n",
      "Epoch 52/100\n",
      "306/306 [==============================] - 1s 2ms/step - loss: 0.0788 - accuracy: 0.9813 - val_loss: 0.0394 - val_accuracy: 0.9882\n",
      "Epoch 53/100\n",
      "306/306 [==============================] - 1s 2ms/step - loss: 0.0599 - accuracy: 0.9861 - val_loss: 0.0367 - val_accuracy: 0.9882\n",
      "Epoch 54/100\n",
      "306/306 [==============================] - 1s 2ms/step - loss: 0.0578 - accuracy: 0.9864 - val_loss: 0.0355 - val_accuracy: 0.9882\n",
      "Epoch 55/100\n",
      "306/306 [==============================] - 1s 2ms/step - loss: 0.0763 - accuracy: 0.9818 - val_loss: 0.0386 - val_accuracy: 0.9882\n",
      "Epoch 56/100\n",
      "306/306 [==============================] - 1s 2ms/step - loss: 0.0619 - accuracy: 0.9835 - val_loss: 0.0407 - val_accuracy: 0.9882\n",
      "Epoch 57/100\n",
      "306/306 [==============================] - 1s 2ms/step - loss: 0.0779 - accuracy: 0.9818 - val_loss: 0.0420 - val_accuracy: 0.9853\n"
     ]
    },
    {
     "name": "stdout",
     "output_type": "stream",
     "text": [
      "Epoch 58/100\n",
      "306/306 [==============================] - 1s 2ms/step - loss: 0.0678 - accuracy: 0.9838 - val_loss: 0.0313 - val_accuracy: 0.9882\n",
      "Epoch 59/100\n",
      "306/306 [==============================] - 1s 2ms/step - loss: 0.0711 - accuracy: 0.9824 - val_loss: 0.0326 - val_accuracy: 0.9882\n",
      "Epoch 60/100\n",
      "306/306 [==============================] - 1s 2ms/step - loss: 0.0829 - accuracy: 0.9816 - val_loss: 0.0334 - val_accuracy: 0.9882\n",
      "Epoch 61/100\n",
      "306/306 [==============================] - 1s 2ms/step - loss: 0.0569 - accuracy: 0.9876 - val_loss: 0.0384 - val_accuracy: 0.9882\n",
      "Epoch 62/100\n",
      "306/306 [==============================] - 1s 2ms/step - loss: 0.0746 - accuracy: 0.9817 - val_loss: 0.0350 - val_accuracy: 0.9882\n",
      "Epoch 63/100\n",
      "306/306 [==============================] - 1s 2ms/step - loss: 0.0774 - accuracy: 0.9829 - val_loss: 0.0401 - val_accuracy: 0.9882\n",
      "Epoch 64/100\n",
      "306/306 [==============================] - 1s 2ms/step - loss: 0.0654 - accuracy: 0.9841 - val_loss: 0.0397 - val_accuracy: 0.9882\n",
      "Epoch 65/100\n",
      "306/306 [==============================] - 1s 2ms/step - loss: 0.0673 - accuracy: 0.9842 - val_loss: 0.0314 - val_accuracy: 0.9882\n",
      "Epoch 66/100\n",
      "306/306 [==============================] - 0s 1ms/step - loss: 0.0874 - accuracy: 0.9832 - val_loss: 0.0293 - val_accuracy: 0.9882\n",
      "Epoch 67/100\n",
      "306/306 [==============================] - 1s 2ms/step - loss: 0.0589 - accuracy: 0.9873 - val_loss: 0.0352 - val_accuracy: 0.9882\n",
      "Epoch 68/100\n",
      "306/306 [==============================] - 1s 2ms/step - loss: 0.0607 - accuracy: 0.9863 - val_loss: 0.0325 - val_accuracy: 0.9882\n",
      "Epoch 69/100\n",
      "306/306 [==============================] - 1s 2ms/step - loss: 0.0709 - accuracy: 0.9833 - val_loss: 0.0372 - val_accuracy: 0.9882\n",
      "Epoch 70/100\n",
      "306/306 [==============================] - 1s 2ms/step - loss: 0.0943 - accuracy: 0.9769 - val_loss: 0.0272 - val_accuracy: 0.9912\n",
      "Epoch 71/100\n",
      "306/306 [==============================] - 1s 2ms/step - loss: 0.0822 - accuracy: 0.9792 - val_loss: 0.0347 - val_accuracy: 0.9882\n",
      "Epoch 72/100\n",
      "306/306 [==============================] - 1s 2ms/step - loss: 0.0670 - accuracy: 0.9837 - val_loss: 0.0302 - val_accuracy: 0.9882\n",
      "Epoch 73/100\n",
      "306/306 [==============================] - 1s 2ms/step - loss: 0.0759 - accuracy: 0.9826 - val_loss: 0.0349 - val_accuracy: 0.9882\n",
      "Epoch 74/100\n",
      "306/306 [==============================] - 1s 2ms/step - loss: 0.0715 - accuracy: 0.9804 - val_loss: 0.0438 - val_accuracy: 0.9882\n",
      "Epoch 75/100\n",
      "306/306 [==============================] - 1s 2ms/step - loss: 0.0719 - accuracy: 0.9817 - val_loss: 0.0293 - val_accuracy: 0.9882\n",
      "Epoch 76/100\n",
      "306/306 [==============================] - 1s 2ms/step - loss: 0.0707 - accuracy: 0.9850 - val_loss: 0.0309 - val_accuracy: 0.9882\n",
      "Epoch 77/100\n",
      "306/306 [==============================] - 1s 2ms/step - loss: 0.0587 - accuracy: 0.9860 - val_loss: 0.0350 - val_accuracy: 0.9882\n",
      "Epoch 78/100\n",
      "306/306 [==============================] - 1s 2ms/step - loss: 0.0753 - accuracy: 0.9823 - val_loss: 0.0433 - val_accuracy: 0.9882\n",
      "Epoch 79/100\n",
      "306/306 [==============================] - 1s 2ms/step - loss: 0.0630 - accuracy: 0.9864 - val_loss: 0.0323 - val_accuracy: 0.9882\n",
      "Epoch 80/100\n",
      "306/306 [==============================] - 1s 2ms/step - loss: 0.0713 - accuracy: 0.9818 - val_loss: 0.0373 - val_accuracy: 0.9882\n",
      "Epoch 81/100\n",
      "306/306 [==============================] - 1s 2ms/step - loss: 0.0760 - accuracy: 0.9828 - val_loss: 0.0300 - val_accuracy: 0.9882\n",
      "Epoch 82/100\n",
      "306/306 [==============================] - 1s 2ms/step - loss: 0.0652 - accuracy: 0.9833 - val_loss: 0.0291 - val_accuracy: 0.9882\n",
      "Epoch 83/100\n",
      "306/306 [==============================] - 1s 2ms/step - loss: 0.0607 - accuracy: 0.9834 - val_loss: 0.0324 - val_accuracy: 0.9882\n",
      "Epoch 84/100\n",
      "306/306 [==============================] - 0s 2ms/step - loss: 0.0521 - accuracy: 0.9869 - val_loss: 0.0328 - val_accuracy: 0.9882\n",
      "Epoch 85/100\n",
      "306/306 [==============================] - 0s 1ms/step - loss: 0.0799 - accuracy: 0.9808 - val_loss: 0.0400 - val_accuracy: 0.9882\n",
      "Epoch 86/100\n",
      "306/306 [==============================] - 1s 2ms/step - loss: 0.0786 - accuracy: 0.9799 - val_loss: 0.0326 - val_accuracy: 0.9882\n",
      "Epoch 87/100\n",
      "306/306 [==============================] - 1s 2ms/step - loss: 0.0490 - accuracy: 0.9880 - val_loss: 0.0337 - val_accuracy: 0.9882\n",
      "Epoch 88/100\n",
      "306/306 [==============================] - 1s 2ms/step - loss: 0.0577 - accuracy: 0.9868 - val_loss: 0.0308 - val_accuracy: 0.9882\n",
      "Epoch 89/100\n",
      "306/306 [==============================] - 1s 2ms/step - loss: 0.0783 - accuracy: 0.9827 - val_loss: 0.0401 - val_accuracy: 0.9882\n",
      "Epoch 90/100\n",
      "306/306 [==============================] - 1s 2ms/step - loss: 0.0592 - accuracy: 0.9859 - val_loss: 0.0362 - val_accuracy: 0.9882\n",
      "Epoch 91/100\n",
      "306/306 [==============================] - 1s 2ms/step - loss: 0.0538 - accuracy: 0.9850 - val_loss: 0.0373 - val_accuracy: 0.9882\n",
      "Epoch 92/100\n",
      "306/306 [==============================] - 1s 2ms/step - loss: 0.0640 - accuracy: 0.9844 - val_loss: 0.0365 - val_accuracy: 0.9882\n",
      "Epoch 93/100\n",
      "306/306 [==============================] - 1s 2ms/step - loss: 0.0620 - accuracy: 0.9857 - val_loss: 0.0326 - val_accuracy: 0.9882\n",
      "Epoch 94/100\n",
      "306/306 [==============================] - 1s 2ms/step - loss: 0.0641 - accuracy: 0.9834 - val_loss: 0.0366 - val_accuracy: 0.9882\n",
      "Epoch 95/100\n",
      "306/306 [==============================] - 1s 2ms/step - loss: 0.0705 - accuracy: 0.9831 - val_loss: 0.0375 - val_accuracy: 0.9882\n",
      "Epoch 96/100\n",
      "306/306 [==============================] - 1s 2ms/step - loss: 0.0688 - accuracy: 0.9851 - val_loss: 0.0342 - val_accuracy: 0.9882\n",
      "Epoch 97/100\n",
      "306/306 [==============================] - 1s 2ms/step - loss: 0.0665 - accuracy: 0.9844 - val_loss: 0.0264 - val_accuracy: 0.9912\n",
      "Epoch 98/100\n",
      "306/306 [==============================] - 1s 2ms/step - loss: 0.0703 - accuracy: 0.9839 - val_loss: 0.0271 - val_accuracy: 0.9882\n",
      "Epoch 99/100\n",
      "306/306 [==============================] - 1s 2ms/step - loss: 0.0652 - accuracy: 0.9834 - val_loss: 0.0351 - val_accuracy: 0.9882\n",
      "Epoch 100/100\n",
      "306/306 [==============================] - 1s 2ms/step - loss: 0.0621 - accuracy: 0.9861 - val_loss: 0.0458 - val_accuracy: 0.9882\n"
     ]
    },
    {
     "data": {
      "text/plain": [
       "<keras.callbacks.History at 0x1d58b19d430>"
      ]
     },
     "execution_count": 26,
     "metadata": {},
     "output_type": "execute_result"
    }
   ],
   "source": [
    "model.compile(loss='binary_crossentropy',optimizer='adam',metrics=['accuracy'])\n",
    "model.fit(x_train,y_train,validation_split=0.1,epochs=100,batch_size=10)"
   ]
  },
  {
   "cell_type": "code",
   "execution_count": 27,
   "metadata": {},
   "outputs": [
    {
     "name": "stdout",
     "output_type": "stream",
     "text": [
      "106/106 [==============================] - 0s 1ms/step - loss: 0.0657 - accuracy: 0.9850\n",
      "Train Accuracy 98.50\n"
     ]
    }
   ],
   "source": [
    "_,accuracy=model.evaluate(x_train,y_train)\n",
    "print(\"Train Accuracy %.2f\" % (accuracy*100))"
   ]
  },
  {
   "cell_type": "code",
   "execution_count": 28,
   "metadata": {},
   "outputs": [
    {
     "name": "stderr",
     "output_type": "stream",
     "text": [
      "D:\\DA\\Anaconda\\lib\\site-packages\\keras\\engine\\sequential.py:450: UserWarning: `model.predict_classes()` is deprecated and will be removed after 2021-01-01. Please use instead:* `np.argmax(model.predict(x), axis=-1)`,   if your model does multi-class classification   (e.g. if it uses a `softmax` last-layer activation).* `(model.predict(x) > 0.5).astype(\"int32\")`,   if your model does binary classification   (e.g. if it uses a `sigmoid` last-layer activation).\n",
      "  warnings.warn('`model.predict_classes()` is deprecated and '\n"
     ]
    },
    {
     "data": {
      "text/plain": [
       "98.93867924528303"
      ]
     },
     "execution_count": 28,
     "metadata": {},
     "output_type": "execute_result"
    }
   ],
   "source": [
    "from sklearn.metrics import accuracy_score\n",
    "y_pred=model.predict_classes(x_text)\n",
    "\n",
    "accuracy_score(y_test,y_pred)*100"
   ]
  },
  {
   "cell_type": "code",
   "execution_count": null,
   "metadata": {},
   "outputs": [],
   "source": []
  }
 ],
 "metadata": {
  "kernelspec": {
   "display_name": "Python 3",
   "language": "python",
   "name": "python3"
  },
  "language_info": {
   "codemirror_mode": {
    "name": "ipython",
    "version": 3
   },
   "file_extension": ".py",
   "mimetype": "text/x-python",
   "name": "python",
   "nbconvert_exporter": "python",
   "pygments_lexer": "ipython3",
   "version": "3.8.5"
  }
 },
 "nbformat": 4,
 "nbformat_minor": 4
}
